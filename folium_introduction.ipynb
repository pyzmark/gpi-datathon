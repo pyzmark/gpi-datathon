{
 "cells": [
  {
   "cell_type": "markdown",
   "id": "154178c9-edcd-48f1-9614-37f1f15b3230",
   "metadata": {},
   "source": [
    "# Welcome to Folium\n",
    "Folium is a Python library that functions as an intermediary to the Javascript Leaflet library, which does the actual work of rendering map elements in a browser space. This is not relevant most of the time, since the Python library provides pretty robust functionality without the need to know any Javascript. There are some exceptions, but let's ignore those.\n",
    "\n",
    "This tutorial should take you further than most \"Learn Folium tutorials\" you will find on, say, Medium. But it won't be comprehensive. Some elements, like the interaction with GeoJSON, can get much more intensive and I touch on them only lightly here."
   ]
  },
  {
   "cell_type": "markdown",
   "id": "3a61355c-7da6-470c-b2f1-d59291ff3104",
   "metadata": {},
   "source": [
    "# Basics - Libraries etc."
   ]
  },
  {
   "cell_type": "code",
   "execution_count": null,
   "id": "c286ccc7-d8d4-49ca-a9a8-36ebed262396",
   "metadata": {},
   "outputs": [],
   "source": [
    "import folium\n",
    "import pandas as pd\n",
    "import numpy as np\n",
    "import re\n",
    "\n",
    "# By default pandas will cut off the number of rows and columns it will show. This overrides that.\n",
    "pd.options.display.max_rows = 500000\n",
    "pd.options.display.max_columns = 600"
   ]
  },
  {
   "cell_type": "markdown",
   "id": "3e171196-3803-4b40-a324-074986140e3b",
   "metadata": {},
   "source": [
    "# Initializing a map, basemaps, etc."
   ]
  },
  {
   "cell_type": "code",
   "execution_count": null,
   "id": "6a28819f-1672-402e-8448-dba8c28449bd",
   "metadata": {},
   "outputs": [],
   "source": [
    "lon, lat = 34.052235, -118.243683\n",
    "\n",
    "zoom_start = 10"
   ]
  },
  {
   "cell_type": "code",
   "execution_count": null,
   "id": "bcea8a7e-a188-40a3-8019-bd76293b1320",
   "metadata": {},
   "outputs": [],
   "source": [
    "m = folium.Map(location=(lon, lat), zoom_start = zoom_start, tiles=\"OpenStreetMap\")\n",
    "\n",
    "m"
   ]
  },
  {
   "cell_type": "markdown",
   "id": "5362e75a-3f97-4a73-8356-cb7f6394460b",
   "metadata": {},
   "source": [
    "Tiles beyond the default ones can be found here: https://leaflet-extras.github.io/leaflet-providers/preview/\n",
    "\n",
    "In many cases, there will be requirements for such details as attribution, which take the form below."
   ]
  },
  {
   "cell_type": "code",
   "execution_count": null,
   "id": "6cfb3cab-5431-491c-a68c-5cde5005b68f",
   "metadata": {},
   "outputs": [],
   "source": [
    "folium.TileLayer('https://server.arcgisonline.com/ArcGIS/rest/services/Canvas/World_Light_Gray_Base/MapServer/tile/{z}/{y}/{x}',\n",
    "                name='Esri.WorldGrayCanvas',\n",
    "                attr='Tiles &copy; Esri &mdash; Esri, DeLorme, NAVTEQ').add_to(m)\n",
    "\n",
    "m"
   ]
  },
  {
   "cell_type": "markdown",
   "id": "e2e97858-4246-4fc5-81c0-014f72742636",
   "metadata": {},
   "source": [
    "# Mapping some points"
   ]
  },
  {
   "cell_type": "code",
   "execution_count": null,
   "id": "88fe3600-a7a0-484f-9101-790998f2d52a",
   "metadata": {},
   "outputs": [],
   "source": [
    "folium.Marker(\n",
    "    location=[34.052235, -118.243683],\n",
    "    tooltip=\"This is where the map is centered\",\n",
    "    popup=\"Downtow LA\",\n",
    "    icon=folium.Icon(color=\"red\"),\n",
    ").add_to(m)\n",
    "\n",
    "folium.Marker(\n",
    "    location=[34.077485887834406, -118.47325409771587],\n",
    "    tooltip=\"This is where we work!\",\n",
    "    popup=\"Getty Center\",\n",
    "    icon=folium.Icon(icon=\"cloud\"),\n",
    ").add_to(m)\n",
    "\n",
    "m"
   ]
  },
  {
   "cell_type": "markdown",
   "id": "0b57b7d4-b5e1-4f04-b961-23279d124b4a",
   "metadata": {},
   "source": [
    "## The Map of the Stars!\n",
    "We can add a bunch of places fairly easily using the pointer function now. Let's try to create an ad hoc star map using the following online list. I've already provided a couple of sites of interest below.\n",
    "https://winetravelandsong.com/music-history-landmarks/los-angeles-rock-n-roll-landmarks/\n",
    "\n",
    "Let's do it as a function that replicates the code we ran separately above."
   ]
  },
  {
   "cell_type": "code",
   "execution_count": null,
   "id": "e6b370a8-b57b-42d4-bf87-f419a576d97f",
   "metadata": {},
   "outputs": [],
   "source": [
    "def pointer(name, tooltip, lat, long):\n",
    "    folium.Marker(\n",
    "    location=[lat, long],\n",
    "    tooltip=tooltip,\n",
    "    popup=name,\n",
    "    icon=folium.Icon(color='purple')).add_to(m)"
   ]
  },
  {
   "cell_type": "code",
   "execution_count": null,
   "id": "31df238d-253c-4896-95b8-ac11e884e45c",
   "metadata": {},
   "outputs": [],
   "source": [
    "pointer(\"The Viper Room\", \"Where River Phoenix died! :-{\", 34.09057643507024, -118.38470184636306)\n",
    "pointer(\"The Beverly Hills Hilton\", \"Not sure what happened here, but it appears on a lot of lists\", 34.08194673339452, -118.4133708134921)\n",
    "m"
   ]
  },
  {
   "cell_type": "code",
   "execution_count": null,
   "id": "e557073d-8de3-4bec-816c-381cef3b092e",
   "metadata": {},
   "outputs": [],
   "source": [
    "trail_coordinates = [\n",
    "    (34.09057643507024, -118.38470184636306),\n",
    "    (34.08194673339452, -118.4133708134921),\n",
    "]\n",
    "\n",
    "folium.PolyLine(trail_coordinates, tooltip=\"Coast\", color='blue').add_to(m)\n",
    "m"
   ]
  },
  {
   "cell_type": "code",
   "execution_count": null,
   "id": "a1ab9bbb-b595-4f6f-ab74-2750bb5e9a82",
   "metadata": {},
   "outputs": [],
   "source": [
    "# New entries here\n",
    "\n",
    "\n",
    "\n",
    "\n"
   ]
  },
  {
   "cell_type": "markdown",
   "id": "06a32117-648a-4e9e-b736-8999acd565f1",
   "metadata": {},
   "source": [
    "# Working with Data\n",
    "Ok, so let's actually work with some data. I've downloaded some data on traffic incidents from the City of Los Angeles' data portal. \n",
    "\n",
    "https://data.lacity.org/Public-Safety/Traffic-Collision-Data-01Jan2015-31May2017-VistaDe/6tkk-tfyj/about_data\n",
    "\n",
    "This records traffic incidents reported to police between 2010 and now. Let's start by trying to just map them."
   ]
  },
  {
   "cell_type": "code",
   "execution_count": null,
   "id": "902a1e2f-75f2-45af-b337-904c566e7b12",
   "metadata": {},
   "outputs": [],
   "source": [
    "## Let's actually import some data to get started with this\n",
    "collisions = pd.read_csv('Traffic_Collision_Data_01Jan2015-31May2017_VistaDelMar-Imperial-Culver_20250331.csv')\n",
    "\n",
    "def pointer(name, tooltip, lat, long):\n",
    "    folium.Marker(\n",
    "    location=[lat, long],\n",
    "    tooltip=tooltip,\n",
    "    popup=name,\n",
    "    icon=folium.Icon(color='lightgreen')).add_to(m)"
   ]
  },
  {
   "cell_type": "code",
   "execution_count": null,
   "id": "602eaa84-2809-4849-8381-0465b8d2a976",
   "metadata": {},
   "outputs": [],
   "source": [
    "collisions.head(2)"
   ]
  },
  {
   "cell_type": "code",
   "execution_count": null,
   "id": "680c023e-2cf3-47cb-b002-e0b965bb8c0d",
   "metadata": {},
   "outputs": [],
   "source": [
    "# The points are encoded in a format called Well Known Text (WKT). There are libraries to work with wkt, albeit it is still inconvenient.\n",
    "# Let's see how\n",
    "import shapely.wkt\n",
    "s = collisions['Location'].iloc[1]\n",
    "oop = shapely.wkt.loads(s)\n",
    "print(oop)"
   ]
  },
  {
   "cell_type": "code",
   "execution_count": null,
   "id": "2b64b65f-89a8-4f7c-8bea-f53c226b6bbc",
   "metadata": {},
   "outputs": [],
   "source": [
    "def longitudinizer(pair):\n",
    "    longitude = re.sub('(.*\\s)(\\()(.*)(\\s)(.*)(\\)$)','\\\\5',pair)\n",
    "    return longitude\n",
    "\n",
    "def latitudinizer(pair):\n",
    "    latitude = re.sub('(.*\\s)(\\()(.*)(\\s)(.*)(\\)$)','\\\\3',pair)\n",
    "    return latitude"
   ]
  },
  {
   "cell_type": "code",
   "execution_count": null,
   "id": "b003ca33-e40c-4c54-9967-9e3899f3f99e",
   "metadata": {},
   "outputs": [],
   "source": [
    "for i in collisions['Location']:\n",
    "    print(latitudinizer(i))"
   ]
  },
  {
   "cell_type": "code",
   "execution_count": null,
   "id": "83ac5562-2416-4dda-884b-d8092e40efc1",
   "metadata": {},
   "outputs": [],
   "source": [
    "collisions['Latitude'] = collisions['Location'].apply(lambda x: latitudinizer(x))\n",
    "collisions['Longitude'] = collisions['Location'].apply(lambda x: longitudinizer(x))"
   ]
  },
  {
   "cell_type": "code",
   "execution_count": null,
   "id": "fc877a4f-9105-4f3e-87ce-9495baac207b",
   "metadata": {},
   "outputs": [],
   "source": [
    "collisions.head(2)"
   ]
  },
  {
   "cell_type": "code",
   "execution_count": null,
   "id": "d2ce83e2-7ee8-4b25-be8e-ab0ba564b58d",
   "metadata": {},
   "outputs": [],
   "source": [
    "for code, age, longitude, latitude in zip(collisions['Crime Code Description'], collisions['Victim Age'], collisions['Longitude'].astype(float), collisions['Latitude'].astype(float)):\n",
    "    pointer(code, age, longitude, latitude)\n",
    "\n",
    "m"
   ]
  },
  {
   "cell_type": "markdown",
   "id": "ca7e1727-91ef-4dbe-b4fd-51f3c1982e4e",
   "metadata": {},
   "source": [
    "# Working with Layers and Circle Markers\n",
    "Points are fine. There are ways to substitute your own images for the little default markers. Realistically, I don't love the look of it all... it is very Google Maps-y. The way to go, I think, is to define circle markers of your own and style them. These can be made variable, in terms of size, to reflect some underlying quantity.\n",
    "\n",
    "Let's also do this a different way, making use of the \"layer\" feature, that will let us group features together in ways that, for example, allow us to switch them on and off.\n",
    "\n",
    "To get into this, let's continue to look at LA crime data. This is all incidents from 2020 onward. The file is kind of huge, so let's download it separately and put it into the same directory as this Notebook.\n",
    "\n",
    "https://data.lacity.org/Public-Safety/Crime-Data-from-2020-to-Present/2nrs-mtv8/about_data"
   ]
  },
  {
   "cell_type": "code",
   "execution_count": null,
   "id": "58cf3904-eb21-4083-8ba0-23cef02b9d74",
   "metadata": {},
   "outputs": [],
   "source": [
    "crime = pd.read_csv('Crime_Data_from_2020_to_Present_20250331.csv')"
   ]
  },
  {
   "cell_type": "code",
   "execution_count": null,
   "id": "17ecc900-27eb-4bc2-b656-7fa630482a4d",
   "metadata": {},
   "outputs": [],
   "source": [
    "crime = crime.head(2000)"
   ]
  },
  {
   "cell_type": "code",
   "execution_count": null,
   "id": "591ac667-f023-41d0-bc2d-d610fa61e99a",
   "metadata": {},
   "outputs": [],
   "source": [
    "crime.head(2)"
   ]
  },
  {
   "cell_type": "code",
   "execution_count": null,
   "id": "9fd33fd6-98d5-490f-9ade-f873bd09198f",
   "metadata": {},
   "outputs": [],
   "source": [
    "m = folium.Map(location=(lon, lat), zoom_start = zoom_start, tiles=\"CartoDB Positron\")\n",
    "circles = folium.FeatureGroup(\"Circle Markers\").add_to(m)\n",
    "folium.features.CircleMarker((34.0375, -118.3506), radius=3, color='black', fill=False, fill_color=0.6, weight=0.3).add_to(circles)\n",
    "\n",
    "m"
   ]
  },
  {
   "cell_type": "code",
   "execution_count": null,
   "id": "b6b32e4c-ced6-4c55-9627-bbce33745741",
   "metadata": {},
   "outputs": [],
   "source": [
    "#import random\n",
    "for code, age, latitude, longitude in zip(crime['Crm Cd Desc'], crime['Vict Age'], crime['LAT'].astype(float), crime['LON'].astype(float)):\n",
    "    label = (code + ' involving someone ' + str(age) + ' years old.')\n",
    "    folium.features.CircleMarker((latitude, longitude), \n",
    "                                 #radius= random.randrange(1, 10), \n",
    "                                 radius= 3,\n",
    "                                 color='black', \n",
    "                                 fill=False, \n",
    "                                 fill_color=0.6, \n",
    "                                 weight=0.3,\n",
    "                                 popup=folium.Popup(label),\n",
    "                                ).add_to(circles)\n",
    "\n",
    "folium.LayerControl().add_to(m)\n",
    "m"
   ]
  },
  {
   "cell_type": "markdown",
   "id": "9244119e-e082-4064-851e-422904cde63c",
   "metadata": {},
   "source": [
    "# Working with GeoJSON - variation on the basic mapping function"
   ]
  },
  {
   "cell_type": "markdown",
   "id": "00f1242d-1732-4c79-9dde-c0b8f8e32981",
   "metadata": {},
   "source": [
    "# Working with GeoJSON - Working with polygons"
   ]
  },
  {
   "cell_type": "code",
   "execution_count": null,
   "id": "5cd50fc1-fdb1-48fd-a23e-4f1307f536de",
   "metadata": {},
   "outputs": [],
   "source": []
  },
  {
   "cell_type": "code",
   "execution_count": null,
   "id": "f3ca16c4-26bb-43ea-bcd1-5e304af291a2",
   "metadata": {},
   "outputs": [],
   "source": []
  }
 ],
 "metadata": {
  "kernelspec": {
   "display_name": "Python 3 (ipykernel)",
   "language": "python",
   "name": "python3"
  },
  "language_info": {
   "codemirror_mode": {
    "name": "ipython",
    "version": 3
   },
   "file_extension": ".py",
   "mimetype": "text/x-python",
   "name": "python",
   "nbconvert_exporter": "python",
   "pygments_lexer": "ipython3",
   "version": "3.11.7"
  }
 },
 "nbformat": 4,
 "nbformat_minor": 5
}
