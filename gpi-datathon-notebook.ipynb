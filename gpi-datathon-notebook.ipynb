{
 "cells": [
  {
   "cell_type": "markdown",
   "id": "fccf8c13-df86-48e3-ab05-fd2089f543ce",
   "metadata": {},
   "source": [
    "# GPI Datathon 2025\n",
    "This notebook is meant to provide some common, Pythonic methods for approaching the GPI data. It may or may not be applicable to other languages or methods, but hopefully can provide a common basis for workflows, and point to common aspects of the data that need cleaning/transformation to be useful for visualization."
   ]
  },
  {
   "cell_type": "markdown",
   "id": "d0b66108-eea7-48a4-82a5-bc1d3bf1be16",
   "metadata": {},
   "source": [
    "## 1. Setup Code"
   ]
  },
  {
   "cell_type": "code",
   "execution_count": null,
   "id": "d58aff2c-5942-44b8-9273-01d51ff98e95",
   "metadata": {},
   "outputs": [],
   "source": [
    "# Basic libraries\n",
    "import pandas as pd\n",
    "import numpy as np\n",
    "import re\n",
    "import ipywidgets as widgets"
   ]
  },
  {
   "cell_type": "code",
   "execution_count": null,
   "id": "57f912f9-aadd-4e77-8bd3-db0846fe03fc",
   "metadata": {},
   "outputs": [],
   "source": [
    "# By default pandas will cut off the number of rows and columns it will show. This overrides that.\n",
    "pd.options.display.max_rows = 500000\n",
    "pd.options.display.max_columns = 500000"
   ]
  },
  {
   "cell_type": "markdown",
   "id": "93d9f488-3442-40d1-919f-a28f5b6c5216",
   "metadata": {},
   "source": [
    "## 2. Importing Data"
   ]
  },
  {
   "cell_type": "markdown",
   "id": "bf8dd6ff-6cb7-4625-8265-d284eeea2ceb",
   "metadata": {},
   "source": [
    "### Load CSVs"
   ]
  },
  {
   "cell_type": "code",
   "execution_count": null,
   "id": "6fcf7fb3-c73f-4293-a6b1-b41c5de138ab",
   "metadata": {},
   "outputs": [],
   "source": [
    "goupil = '2020_02_18_GoupilDatathon.csv'\n",
    "inv_french = '2024_04_29_DatathonFRENCHINV.csv'\n",
    "inv_dutch = '2024_05_08_DatathonDUTCHINV.csv'\n",
    "inv_german = '2024_05_08_DatathonGERMANINV.csv'\n",
    "inv_spanish = '2024_05_09_DatathonSPANINV.csv'\n",
    "info_french = '2024_05_27_DatathonFRENCHINFO.csv'\n",
    "info_german = '2024_05_27_DatathonGERMANINFO.csv'\n",
    "info_dutch = '2024_05_31_DatathonDUTCHINFO.csv'\n",
    "info_spanish = '2024_05_31_DatathonSPANINFO.csv'\n",
    "info_inven = '2024_06_05_DatathonINVENINFO.csv'\n",
    "inventories = '2024_07_11_DatathonINVENTORIES.csv'\n",
    "collectors = '2025_02_06_DatathonCOLLECTORS.csv'\n",
    "prices = '2025_02_06_DatathonPRICES.csv'\n",
    "xwebcolls = '2025_02_10_DatathonXWEBCOLLS.csv'\n",
    "xwebprof = '2025_02_10_DatathonXWEBPROF.csv'\n",
    "sales_belgian = '2025_02_18_DatathonBELGSALES.csv'\n",
    "sales_british1 = '2025_02_18_DatathonBRITISHSALES-1.csv'\n",
    "sales_british2 = '2025_02_18_DatathonBRITISHSALES-2.csv'\n",
    "sales_british3 = '2025_02_18_DatathonBRITISHSALES-3.csv'\n",
    "sales_british4 = '2025_02_18_DatathonBRITISHSALES-4.csv'\n",
    "sales_british5 = '2025_02_18_DatathonBRITISHSALES-5.csv'\n",
    "sales_dutch = '2025_02_18_DatathonDUTCHSALES.csv'\n",
    "sales_french1 = '2025_02_18_DatathonFRENCHSALES-1.csv'\n",
    "sales_french3 = '2025_02_18_DatathonFRENCHSALES-3.csv'\n",
    "sales_german1 = '2025_02_18_DatathonGERMANSALES-1.csv'\n",
    "sales_german2 = '2025_02_18_DatathonGERMANSALES-2.csv'\n",
    "sales_german3 = '2025_02_18_DatathonGERMANSALES-3.csv'\n",
    "sales_german7 = '2025_02_18_DatathonGERMANSALES-7.csv'\n",
    "sales_german8 = '2025_02_18_DatathonGERMANSALES-8.csv'\n",
    "knoedler = '2025_02_18_Datathonknoedler.csv'\n",
    "sales_scandinavian = '2025_02_18_DatathonSCANDISALES.csv'\n",
    "collectors_xslx = '2025_02_06_DatathonCOLLECTORS.xlsx'\n",
    "prices_xslx = '2025_02_06_DatathonPRICES.xlsx'\n",
    "xwebcolls_headers_xslx = '2025_02_10_DatathonXWEBCOLLS-HEADERS.xlsx'\n",
    "xwebcolls_xslx = '2025_02_10_DatathonXWEBCOLLS.xlsx'\n",
    "xwebprof_xslx = '2025_02_10_DatathonXWEBPROF.xlsx'\n",
    "sales_contents_by_nation_tracking_sheet_xslx = '2025_02_18_DatathonSales-contents-by-nation-tracking-sheet.xlsx'\n",
    "sales_scandinavia_xslx = '2025_02_18_DatathonSCANDISALES.xlsx'"
   ]
  },
  {
   "cell_type": "code",
   "execution_count": null,
   "id": "8c774bc5-7a8a-4586-b30f-845971d95855",
   "metadata": {},
   "outputs": [],
   "source": [
    "# Some of the datasets come headerless. \n",
    "knoedler_header = ['STAR Record No.', 'PI Record No.', 'Stock Book No.', 'Knoedler Number', 'Page Number', 'Row Number', 'Consign. No.', 'Consign. Name', 'Consign. Auth', 'Consign. Loc.', 'Artist Name 1', 'Art. Authority 1', 'Nationality 1', 'Attrib Mod 1', 'Attrib Mod Auth1', 'Artist Name 2', 'Art. Authority 2', 'Nationality 2', 'Attrib Mod 2', 'Attrib Mod Auth2', 'Title', 'Description', 'Subject', 'Genre', 'Object Type', 'Materials', 'Dimensions', 'Entry Date-Year', 'Entry Date-Month', 'Entry Date-Day', 'Sale Date-Year', 'Sale Date-Month', 'Sale Date-Day', 'Purch. Amount', 'Purch. Currency', 'Purch. Note', 'KnoedPurch Amt.', 'KnoedPurch Curr.', 'KnoedPurch Note', 'Price Amount', 'Price Currency', 'Price Note', 'KnoedSale Amt.', 'KnoedSale Curr. ', 'KnoedSale Note', 'Seller Name 1', 'Seller Loc 1', 'Sell Auth Name 1', 'Sell Auth Loc 1', 'Sell Auth Mod 1', 'Seller Name 2', 'Seller Loc 2', 'Sell Auth Name 2', 'Sell Auth Loc 2', 'Sell Auth Mod 2', 'Seller Name 3 ', 'Seller Loc 3 ', 'Sell Auth Name 3 ', 'Sell Auth Loc 3 ', 'Sell Auth Mod 3 ', 'Joint Own 1', 'Joint Own Auth 1 ', 'Joint Own Sh 1', 'Joint Own 2', 'Joint Own Auth 2 ', 'Joint Own Sh 2', 'Joint Own 3', 'Joint Own Auth 3 ', 'Joint Own Sh 3', 'Transaction', 'Buyer Name 1', 'Buyer Loc 1', 'Buy Auth Name 1', 'Buy Auth Addr 1', 'Buy Auth Mod 1', 'Buyer Name 2', 'Buyer Loc 2', 'Buy Auth Name 2', 'Buy Auth Addr 2', 'Buy Auth Mod 2', 'Folio', 'prev own 1', 'prev own auth1 ', 'prev own loc1', 'prev own 2', 'prev own auth2 ', 'prev own loc2', 'prev own 3', 'prev own auth3 ', 'prev own loc3', 'prev own 4', 'prev own auth4 ', 'prev own loc4', 'prev own 5', 'prev own auth5 ', 'prev own loc5', 'prev own 6', 'prev own auth6 ', 'prev own loc6', 'prev own 7', 'prev own auth7 ', 'prev own loc7', 'prev own 8', 'prev own auth8 ', 'prev own loc8', 'prev own 9', 'prev own auth9 ', 'prev own loc9', 'post owner', 'post own auth ', 'Present Loc Geog', 'Present Loc Inst', 'Present Loc Acc', 'Present Loc Note', 'Working Note', 'Verbatim Notes', 'Rosetta Handle', 'Main Heading', 'Subheading', 'Flag']\n",
    "\n",
    "# Huge datasets are not loaded by default. Setting the 'low_memory' variable to false disables this. \n",
    "knoedler_df = pd.read_csv('data/' + knoedler, names=knoedler_header, low_memory=False)"
   ]
  },
  {
   "cell_type": "code",
   "execution_count": null,
   "id": "15f06e30-8893-433c-9082-fac72b2af70d",
   "metadata": {},
   "outputs": [],
   "source": [
    "knoedler_df.head(5)"
   ]
  },
  {
   "cell_type": "code",
   "execution_count": null,
   "id": "90cdccf4-61cf-4b48-9c0f-fd9cc61be3b4",
   "metadata": {},
   "outputs": [],
   "source": [
    "knoedler_df.shape"
   ]
  },
  {
   "cell_type": "markdown",
   "id": "03907c86-ce6b-4104-90be-8497d244c8b8",
   "metadata": {},
   "source": [
    "### Reload as one dataframe"
   ]
  },
  {
   "cell_type": "code",
   "execution_count": null,
   "id": "474898a9-b96f-4635-8824-88b13caa102e",
   "metadata": {},
   "outputs": [],
   "source": [
    "data = knoedler"
   ]
  },
  {
   "cell_type": "markdown",
   "id": "3f4bc139-63a3-4326-874a-3deb97ca27cd",
   "metadata": {},
   "source": [
    "## 3. Data Visualization"
   ]
  },
  {
   "cell_type": "markdown",
   "id": "25a09772-3ab7-4144-9fa5-a44b39e04a2b",
   "metadata": {},
   "source": [
    "### Sankey Chart"
   ]
  },
  {
   "cell_type": "markdown",
   "id": "c2240976-f001-4511-8a61-97b41ca7155a",
   "metadata": {},
   "source": [
    "This is a classic visualization, originally invented to visualize the workings of internal combustion engines. The coolest version of it remains Charles Minard's 1869 visualization of Napoleon's march into and out of Russia. The major requirement of this kind of visualization is a \"source\" column and a \"target\" column.\n",
    "![Minard](https://upload.wikimedia.org/wikipedia/commons/2/29/Minard.png \"Minard Diagram\")"
   ]
  },
  {
   "cell_type": "code",
   "execution_count": null,
   "id": "3869436d-a30a-496d-8585-88fe7351e684",
   "metadata": {},
   "outputs": [],
   "source": [
    "import holoviews as hv\n",
    "import plotly.graph_objects as go\n",
    "\n",
    "# Nan values create problems for almost any function that is looking for a string. We have to replace them.\n",
    "# A bonus is we can gather all unknown buyers and sellers into one category.\n",
    "data['Buy Auth Addr 1'].fillna('Unknown Buyer', inplace=True)\n",
    "data['Sell Auth Loc 1'].fillna('Unknown Seller', inplace=True)\n",
    "\n",
    "# We need to assign each buyer and seller a country.\n",
    "# Another method would be to run the whole string through a geotagging API like Geopy.\n",
    "# That becomes impossible when we are dealing with 40k+ rows.\n",
    "# Instead, we regex from the \"Buy Auth Addr 1\" and \"Sell Auth Loc 1\" columns.\n",
    "def actor_country(string):\n",
    "    output = re.sub(\"(.*)(,\\s)(.*$)\",\"\\\\3\", string)\n",
    "    return output\n",
    "\n",
    "data['buyer_country'] = data['Buy Auth Addr 1'].apply(lambda x: actor_country(x))\n",
    "data['seller_country'] = data['Sell Auth Loc 1'].apply(lambda x: actor_country(x))"
   ]
  },
  {
   "cell_type": "code",
   "execution_count": null,
   "id": "eea08394-22cc-4b26-be09-e254b07f1d78",
   "metadata": {},
   "outputs": [],
   "source": [
    "# running on the whole dataset is computing-intensive. Let's cut it down.\n",
    "data = data.head(50)"
   ]
  },
  {
   "cell_type": "code",
   "execution_count": null,
   "id": "29f85421-67cb-42ac-b0e4-b236af18de45",
   "metadata": {},
   "outputs": [],
   "source": [
    "edges.head(10)"
   ]
  },
  {
   "cell_type": "code",
   "execution_count": null,
   "id": "ea0bfa2e-7a11-4ac7-bc19-6ea55364e0b8",
   "metadata": {},
   "outputs": [],
   "source": [
    "# sankey diagrams run on three columns: source, target, value (usually a number)\n",
    "# the two lines below grab the two relevant columns for source and target\n",
    "# We use the \"zip\" method to stitch those back as a separate df\n",
    "# then we assign is row a 'value' of 1\n",
    "source = data['buyer_country']\n",
    "target = data['seller_country']\n",
    "edges = pd.DataFrame(zip(source, target), columns=['source', 'target'])\n",
    "edges['value'] = 1\n",
    "\n",
    "#--------------------------------------\n",
    "# The sankey function requires that strings be assigned numeric equivalents\n",
    "# These can be encoded in a dictionary.\n",
    "#'label' parameter in plotly \n",
    "unique_source_target = list(pd.unique(edges[['source', 'target']].values.ravel('K')))\n",
    "#for assigning unique number to each source and target\n",
    "mapping_dict = {k: v for v, k in enumerate(unique_source_target)}\n",
    "#mapping of full data\n",
    "edges['source'] = edges['source'].map(mapping_dict)\n",
    "edges['target'] = edges['target'].map(mapping_dict)\n",
    "#converting full dataframe as list for using with in plotly\n",
    "links_dict = edges.to_dict(orient='list')\n",
    "\n",
    "#---------------------------------------\n",
    "#Sankey Diagram Code \n",
    "fig = go.Figure(data=[go.Sankey(\n",
    "    node = dict(\n",
    "    pad = 15,\n",
    "    thickness = 20,\n",
    "    line = dict(color = \"black\", width = 0.5),\n",
    "    label = unique_source_target,\n",
    "\n",
    "    ),\n",
    "    link = dict(\n",
    "    source = links_dict[\"source\"],\n",
    "    target = links_dict[\"target\"],\n",
    "    value = links_dict[\"value\"],\n",
    "\n",
    "))])\n",
    "\n",
    "sankey = fig.update_layout(title_text=\"Knoedler Sankey Diagram\", font_size=10,width=1000, height=600)\n",
    "sankey"
   ]
  }
 ],
 "metadata": {
  "kernelspec": {
   "display_name": "Python 3 (ipykernel)",
   "language": "python",
   "name": "python3"
  },
  "language_info": {
   "codemirror_mode": {
    "name": "ipython",
    "version": 3
   },
   "file_extension": ".py",
   "mimetype": "text/x-python",
   "name": "python",
   "nbconvert_exporter": "python",
   "pygments_lexer": "ipython3",
   "version": "3.11.7"
  }
 },
 "nbformat": 4,
 "nbformat_minor": 5
}
