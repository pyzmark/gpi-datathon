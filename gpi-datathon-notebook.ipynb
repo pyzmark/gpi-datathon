{
 "cells": [
  {
   "cell_type": "markdown",
   "id": "fccf8c13-df86-48e3-ab05-fd2089f543ce",
   "metadata": {},
   "source": [
    "# GPI Datathon 2025\n",
    "This notebook is meant to provide some common, Pythonic methods for approaching the GPI data. It may or may not be applicable to other languages or methods, but hopefully can provide a common basis for workflows, and point to common aspects of the data that need cleaning/transformation to be useful for visualization.\n",
    "\n",
    "**I would suggest skipping Section 2, unless you know you want to work with raw data**"
   ]
  },
  {
   "cell_type": "markdown",
   "id": "d0b66108-eea7-48a4-82a5-bc1d3bf1be16",
   "metadata": {},
   "source": [
    "## 1. Setup Code"
   ]
  },
  {
   "cell_type": "code",
   "execution_count": 1,
   "id": "d58aff2c-5942-44b8-9273-01d51ff98e95",
   "metadata": {},
   "outputs": [],
   "source": [
    "# Basic libraries\n",
    "import pandas as pd\n",
    "import numpy as np\n",
    "import re\n",
    "import folium\n",
    "import matplotlib.pyplot as plt\n",
    "import seaborn\n",
    "#import ipywidgets as widgets"
   ]
  },
  {
   "cell_type": "code",
   "execution_count": 2,
   "id": "57f912f9-aadd-4e77-8bd3-db0846fe03fc",
   "metadata": {},
   "outputs": [],
   "source": [
    "# By default pandas will cut off the number of rows and columns it will show. This overrides that.\n",
    "pd.options.display.max_rows = 500000\n",
    "pd.options.display.max_columns = 600"
   ]
  },
  {
   "cell_type": "markdown",
   "id": "93d9f488-3442-40d1-919f-a28f5b6c5216",
   "metadata": {},
   "source": [
    "## 2. Importing Raw Data\n",
    "Everything in this section is meant to take raw STAR exports, concatenate them (as sales, inventory, etc. data), and then stitch headers onto them. Datathon participants should not need to use these. Therefore, you might skip to the next section."
   ]
  },
  {
   "cell_type": "markdown",
   "id": "bf8dd6ff-6cb7-4625-8265-d284eeea2ceb",
   "metadata": {
    "jp-MarkdownHeadingCollapsed": true
   },
   "source": [
    "### Load CSVs"
   ]
  },
  {
   "cell_type": "code",
   "execution_count": null,
   "id": "6fcf7fb3-c73f-4293-a6b1-b41c5de138ab",
   "metadata": {},
   "outputs": [],
   "source": [
    "goupil = '2020_02_18_GoupilDatathon.csv'\n",
    "inv_french = '2024_04_29_DatathonFRENCHINV.csv'\n",
    "inv_dutch = '2024_05_08_DatathonDUTCHINV.csv'\n",
    "inv_german = '2024_05_08_DatathonGERMANINV.csv'\n",
    "inv_spanish = '2024_05_09_DatathonSPANINV.csv'\n",
    "info_french = '2024_05_27_DatathonFRENCHINFO.csv'\n",
    "info_german = '2024_05_27_DatathonGERMANINFO.csv'\n",
    "info_dutch = '2024_05_31_DatathonDUTCHINFO.csv'\n",
    "info_spanish = '2024_05_31_DatathonSPANINFO.csv'\n",
    "info_inven = '2024_06_05_DatathonINVENINFO.csv'\n",
    "inventories = '2024_07_11_DatathonINVENTORIES.csv'\n",
    "collectors = '2025_02_06_DatathonCOLLECTORS.csv'\n",
    "prices = '2025_02_06_DatathonPRICES.csv'\n",
    "xwebcolls = '2025_02_10_DatathonXWEBCOLLS.csv'\n",
    "xwebprof = '2025_02_10_DatathonXWEBPROF.csv'\n",
    "sales_belgian = '2025_02_18_DatathonBELGSALES.csv'\n",
    "sales_british1 = '2025_02_18_DatathonBRITISHSALES-1.csv'\n",
    "sales_british2 = '2025_02_18_DatathonBRITISHSALES-2.csv'\n",
    "sales_british3 = '2025_02_18_DatathonBRITISHSALES-3.csv'\n",
    "sales_british4 = '2025_02_18_DatathonBRITISHSALES-4.csv'\n",
    "sales_british5 = '2025_02_18_DatathonBRITISHSALES-5.csv'\n",
    "sales_dutch = '2025_02_18_DatathonDUTCHSALES.csv'\n",
    "sales_french1 = '2025_02_18_DatathonFRENCHSALES-1.csv'\n",
    "sales_french3 = '2025_02_18_DatathonFRENCHSALES-3.csv'\n",
    "sales_german1 = '2025_02_18_DatathonGERMANSALES-1.csv'\n",
    "sales_german2 = '2025_02_18_DatathonGERMANSALES-2.csv'\n",
    "sales_german3 = '2025_02_18_DatathonGERMANSALES-3.csv'\n",
    "sales_german7 = '2025_02_18_DatathonGERMANSALES-7.csv'\n",
    "sales_german8 = '2025_02_18_DatathonGERMANSALES-8.csv'\n",
    "knoedler = '2025_02_18_Datathonknoedler.csv'\n",
    "sales_scandinavian = '2025_02_18_DatathonSCANDISALES.csv'\n",
    "collectors_xslx = '2025_02_06_DatathonCOLLECTORS.xlsx'\n",
    "prices_xslx = '2025_02_06_DatathonPRICES.xlsx'\n",
    "xwebcolls_headers_xslx = '2025_02_10_DatathonXWEBCOLLS-HEADERS.xlsx'\n",
    "xwebcolls_xslx = '2025_02_10_DatathonXWEBCOLLS.xlsx'\n",
    "xwebprof_xslx = '2025_02_10_DatathonXWEBPROF.xlsx'\n",
    "sales_contents_by_nation_tracking_sheet_xslx = '2025_02_18_DatathonSales-contents-by-nation-tracking-sheet.xlsx'\n",
    "sales_scandinavia_xslx = '2025_02_18_DatathonSCANDISALES.xlsx'"
   ]
  },
  {
   "cell_type": "markdown",
   "id": "2dcf826d-9861-43fc-8780-c32bf9a526b0",
   "metadata": {
    "jp-MarkdownHeadingCollapsed": true
   },
   "source": [
    "### Load,Combining, and Modify Sales"
   ]
  },
  {
   "cell_type": "code",
   "execution_count": null,
   "id": "caf9a812-c738-4382-8df6-9d7fef01d23b",
   "metadata": {},
   "outputs": [],
   "source": [
    "sales_header = ['pi_record_no', 'catalog_number', 'sale_code', 'lot_number', 'pg', 'lot_sale_year', 'lot_sale_month', 'lot_sale_day', 'lot_sale_mod', 'expert_auth_1', 'expert_ulan_1', 'expert_auth_2', 'expert_ulan_2', 'expert_auth_3', 'expert_ulan_3', 'expert_auth_4', 'expert_ulan_4', 'commissaire_pr_1', 'comm_ulan_1', 'commissaire_pr_2', 'comm_ulan_2', 'commissaire_pr_3', 'comm_ulan_3', 'commissaire_pr_4', 'comm_ulan_4', 'auction_house_1', 'house_ulan_1', 'auction_house_2', 'house_ulan_2', 'auction_house_3', 'house_ulan_3', 'auction_house_4', 'house_ulan_4', 'title', 'title_translation', 'title_modifier', 'artist_name_1', 'artist_info_1', 'art_authority_1', 'nationality_1', 'attrib_mod_1', 'attrib_mod_auth_1', 'artist_ulan_1', 'artist_name_2', 'artist_info_2', 'art_authority_2', 'nationality_2', 'attrib_mod_2', 'attrib_mod_auth_2', 'artist_ulan_2', 'artist_name_3', 'artist_info_3', 'art_authority_3', 'nationality_3', 'attrib_mod_3', 'attrib_mod_auth_3', 'artist_ulan_3', 'artist_name_4', 'artist_info_4', 'art_authority_4', 'nationality_4', 'attrib_mod_4', 'attrib_mod_auth_4', 'artist_ulan_4', 'artist_name_5', 'artist_info_5', 'art_authority_5', 'nationality_5', 'attrib_mod_5', 'attrib_mod_auth_5', 'artist_ulan_5', 'hand_note_1', 'hand_note_so_1', 'hand_note_2', 'hand_note_so_2', 'hand_note_3', 'hand_note_so_3', 'hand_note_4', 'hand_note_so_4', 'hand_note_5', 'hand_note_so_5', 'hand_note_6', 'hand_note_so_6', 'hand_note_7', 'hand_note_so_7', 'object_type', 'materials', 'dimensions', 'formatted_dimens', 'format', 'genre', 'subject', 'inscription', 'sell_name_1', 'sell_name_so_1', 'sell_name_ques_1', 'sell_mod_1', 'sell_auth_name_1', 'sell_auth_nameq_1', 'sell_auth_mod_1', 'sell_auth_mod_a_1', 'sell_ulan_1', 'sell_name_2', 'sell_name_so_2', 'sell_name_ques_2', 'sell_mod_2', 'sell_auth_name_2', 'sell_auth_nameq_2', 'sell auth_mod_2', 'sell_auth_mod_a_2', 'sell_ulan_2', 'sell_name_3', 'sell_name_so_3', 'sell_name_ques_3', 'sell_mod_3', 'sell_auth_name_3', 'sell_auth_nameq_3', 'sell_auth_mod_3', 'sell_auth_mod_a_3', 'sell_ulan_3', 'sell_name_4', 'sell_name_so_4', 'sell_name_ques_4', 'sell_mod_4', 'sell_auth_name_4', 'sell_auth_nameq_4', 'sell_auth_mod_4', 'sell_auth_mod_a_4', 'sell_ulan_4', 'sell_name_5', 'sell_name_so_5', 'sell_name_ques_5', 'sell_mod_5', 'sell_auth_name_5', 'sell_auth_nameq_5', 'sell_auth_mod_5', 'sell_auth_mod_a_5', 'sell_ulan_5', 'sell_name_6', 'sell_name_so_6', 'sell_name_ques_6', 'sell_mod_6', 'sell_auth_name_6', 'sell_auth_nameq_6', 'sell_auth_mod_6', 'sell_auth_mod_a_6', 'sell_ulan_6', 'sell_name_7', 'sell_name_so_7', 'sell_name_ques_7', 'sell_mod_7', 'sell_auth_name_7', 'sell_auth_nameq_7', 'sell_auth_mod_7', 'sell_auth_mod_a_7', 'sell_ulan_7', 'transaction', 'transaction_so', 'transaction_cite', 'price_amount_1', 'price_currency_1', 'price_note_1', 'price_source_1', 'price_citation_1', 'price_amount_2', 'price_currency_2', 'price_note_2', 'price_source_2', 'price_citation_2', 'price_amount_3', 'price_currency_3', 'price_note_3', 'price_source_3', 'price_citation_3', 'est_price', 'est_price_curr', 'est_price_desc', 'est_price_so', 'start_price', 'start_price_curr', 'start_price_desc', 'start_price_so', 'ask_price', 'ask_price_curr', 'ask_price_desc', 'ask_price_so', 'buy_name_1', 'buy_name_so_1', 'buy_name_ques_1', 'buy_name_cite_1', 'buy_mod_1', 'buy_auth_name_1', 'buy_auth_nameQ_1', 'buy_auth_mod_1', 'buy_auth_mod_a_1', 'buy_ulan_1', 'buy_name_2', 'buy_name_so_2', 'buy_name_ques_2', 'buy_name_cite_2', 'buy_mod_2', 'buy_auth_name_2', 'buy_auth_nameQ_2', 'buy_auth_mod_2', 'buy_auth_mod_a_2', 'buy_ulan_2', 'buy_name_3', 'buy_name_so_3', 'buy_name_ques_3', 'buy_name_cite_3', 'buy_mod_3', 'buy_auth_name_3', 'buy_auth_nameQ_3', 'buy_auth_mod_3', 'buy_auth_mod_a_3', 'buy_ulan_3', 'buy_name_4', 'buy_name_so_4', 'buy_name_ques_4', 'buy_name_cite_4', 'buy_mod_4', 'buy_auth_name_4', 'buy_auth_nameQ_4', 'buy_auth_mod_4', 'buy_auth_mod_a_4', 'buy_ulan_4', 'prev_owner_1', 'prev_own_ques_1', 'prev_own_so_1', 'prev_own_auth_1', 'prev_own_auth_D_1', 'prev_own_auth_E_1', 'prev_own_auth_P_1', 'prev_own_auth_L_1', 'prev_own_auth_Q_1', 'prev_own_ulan_1', 'prev_owner_2', 'prev_own_ques_2', 'prev_own_so_2', 'prev_own_auth_2', 'prev_own_auth_D_2', 'prev_own_auth_E_2', 'prev_own_auth_P_2', 'prev_own_auth_L_2', 'prev_own_auth_Q_2', 'prev_own_ulan_2', 'prev_owner_3', 'prev_own_ques_3', 'prev_own_so_3', 'prev_own_auth_3', 'prev_own_auth_D_3', 'prev_own_auth_E_3', 'prev_own_auth_P_3', 'prev_own_auth_L_3', 'prev_own_auth_Q_3', 'prev_own_ulan_3', 'prev_owner_4', 'prev_own_ques_4', 'prev_own_so_4', 'prev_own_auth_4', 'prev_own_auth_D_4', 'prev_own_auth_E_4', 'prev_own_auth_P_4', 'prev_own_auth_L_4', 'prev_own_auth_Q_4', 'prev_own_ulan_4', 'prev_owner_5', 'prev_own_ques_5', 'prev_own_so_5', 'prev_own_auth_5', 'prev_own_auth_D_5', 'prev_own_auth_E_5', 'prev_own_auth_P_5', 'prev_own_auth_L_5', 'prev_own_auth_Q_5', 'prev_own_ulan_5', 'prev_owner_6', 'prev_own_ques_6', 'prev_own_so_6', 'prev_own_auth_6', 'prev_own_auth_D_6', 'prev_own_auth_E_6', 'prev_own_auth_P_6', 'prev_own_auth_L_6', 'prev_own_auth_Q_6', 'prev_own_ulan_6', 'prev_owner_7', 'prev_own_ques_7', 'prev_own_so_7', 'prev_own_auth_7', 'prev_own_auth_D_7', 'prev_own_auth_E_7', 'prev_own_auth_P_7', 'prev_own_auth_L_7', 'prev_own_auth_Q_7', 'prev_own_ulan_7', 'prev_owner_8', 'prev_own_ques_8', 'prev_own_so_8', 'prev_own_auth_8', 'prev_own_auth_D_8', 'prev_own_auth_E_8', 'prev_own_auth_P_8', 'prev_own_auth_L_8', 'prev_own_auth_Q_8', 'prev_own_ulan_8', 'prev_owner_9', 'prev_own_ques_9', 'prev_own_so_9', 'prev_own_auth_9', 'prev_own_auth_D_9', 'prev_own_auth_E_9', 'prev_own_auth_P_9', 'prev_own_auth_L_9', 'prev_own_auth_Q_9', 'prev_own_ulan_9', 'prev_sale_year_1', 'prev_sale_mo_1', 'prev_sale_day_1', 'prev_sale_loc_1', 'prev_sale_lot_1', 'prev_sale_ques_1', 'prev_sale_cat_1', 'prev_sale_year_2', 'prev_sale_mo_2', 'prev_sale_day_2', 'prev_sale_loc_2', 'prev_sale_lot_2', 'prev_sale_ques_2', 'prev_sale_cat_2', 'prev_sale_year_3', 'prev_sale_mo_3', 'prev_sale_day_3', 'prev_sale_loc_3', 'prev_sale_lot_3', 'prev_sale_ques_3', 'prev_sale_cat_3', 'prev_sale_year_4', 'prev_sale_mo_4', 'prev_sale_day_4', 'prev_sale_loc_4', 'prev_sale_lot_4', 'prev_sale_ques_4', 'prev_sale_cat_4', 'prev_sale_year_5', 'prev_sale_mo_5', 'prev_sale_day_5', 'prev_sale_loc_5', 'prev_sale_lot_5', 'prev_sale_ques_5', 'prev_sale_cat_5', 'prev_sale_year_6', 'prev_sale_mo_6', 'prev_sale_day_6', 'prev_sale_loc_6', 'prev_sale_lot_6', 'prev_sale_ques_6', 'prev_sale_cat_6', 'prev_sale_year_7', 'prev_sale_mo_7', 'prev_sale_day_7', 'prev_sale_loc_7', 'prev_sale_lot_7', 'prev_sale_ques_7', 'prev_sale_cat_7', 'post_sale_year_1', 'post_sale_mo_1', 'post_sale_day_1', 'post_sale_loc_1', 'post_sale_lot_1', 'post_sale_q_1', 'post_sale_cat_1', 'post_sale_year_2', 'post_sale_mo_2', 'post_sale_day_2', 'post_sale_loc_2', 'post_sale_lot_2', 'post_sale_q_2', 'post_sale_cat_2', 'post_sale_year_3', 'post_sale_mo_3', 'post_sale_day_3', 'post_sale_loc_3', 'post_sale_lot_3', 'post_sale_q_3', 'post_sale_cat_3', 'post_sale_year_4', 'post_sale_mo_4', 'post_sale_day_4', 'post_sale_loc_4', 'post_sale_lot_4', 'post_sale_q_4', 'post_sale_cat_4', 'post_sale_year_5', 'post_sale_mo_5', 'post_sale_day_5', 'post_sale_loc_5', 'post_sale_lot_5', 'post_sale_q_5', 'post_sale_cat_5', 'post_sale_year_6', 'post_sale_mo_6', 'post_sale_day_6', 'post_sale_loc_6', 'post_sale_lot_6', 'post_sale_q_6', 'post_sale_cat_6', 'post_sale_year_7', 'post_sale_mo_7', 'post_sale_day_7', 'post_sale_loc_7', 'post_sale_lot_7', 'post_sale_q_7', 'post_sale_cat_7', 'post_sale_year_8', 'post_sale_mo_8', 'post_sale_day_8', 'post_sale_loc_8', 'post_sale_lot_8', 'post_sale_q_8', 'post_sale_cat_8', 'post_sale_year_9', 'post_sale_mo_9', 'post_sale_day_9', 'post_sale_loc_9', 'post_sale_lot_9', 'post_sale_q_9', 'post_sale_cat_9', 'post_own_1', 'post_own_q_1', 'post_own_so_1', 'post_own_auth_1', 'post_own_auth_D_1', 'post_own_auth_E_1', 'post_own_auth_P_1', 'post_own_auth_L_1', 'post_own_auth_Q_1', 'post_own_ulan_1', 'post_own_2', 'post_own_q_2', 'post_own_so_2', 'post_own_auth_2', 'post_own_auth_D_2', 'post_own_auth_E_2', 'post_own_auth_P_2', 'post_own_auth_L_2', 'post_own_auth_Q_2', 'post_own_ulan_2', 'post_own_3', 'post_own_q_3', 'post_own_so_3', 'post_own_auth_3', 'post_own_auth_D_3', 'post_own_auth_E_3', 'post_own_auth_P_3', 'post_own_auth_L_3', 'post_own_auth_Q_3', 'post_own_ulan_3', 'post_own_4', 'post_own_q_4', 'post_own_so_4', 'post_own_auth_4', 'post_own_auth_D_4', 'post_own_auth_E_4', 'post_own_auth_P_4', 'post_own_auth_L_4', 'post_own_auth_Q_4', 'post_own_ulan_4', 'post_own_5', 'post_own_q_5', 'post_own_so_5', 'post_own_auth_5', 'post_own_auth_D_5', 'post_own_auth_E_5', 'post_own_auth_P_5', 'post_own_auth_L_5', 'post_own_auth_Q_5', 'post_own_ulan_5', 'post_own_6', 'post_own_q_6', 'post_own_so_6', 'post_own_auth_6', 'post_own_auth_D_6', 'post_own_auth_E_6', 'post_own_auth_P_6', 'post_own_auth_L_6', 'post_own_auth_Q_6', 'post_own_ulan_6', 'pres_loc_geog_1', 'pres_loc_inst_1', 'pres_loc_insq_1', 'pres_loc_insi_1', 'pres_loc_acc_1', 'pres_loc_accq_1', 'pres_loc_note_1', 'pres_loc_geog_2', 'pres_loc_inst_2', 'pres_loc_insq_2', 'pres_loc_insi_2', 'pres_loc_acc_2', 'pres_loc_accq_2', 'pres_loc_note_2', 'ppg', 'lot_notes', 'persistent_puid', 'file_segment', 'flag']"
   ]
  },
  {
   "cell_type": "code",
   "execution_count": null,
   "id": "0a695153-cf3b-424a-b050-fa3950a614fc",
   "metadata": {},
   "outputs": [],
   "source": [
    "column_filter = ['pi_record_no', \n",
    "                 'catalog_number', \n",
    "                 'lot_number', \n",
    "                 'lot_sale_year', \n",
    "                 'lot_sale_month', \n",
    "                 'lot_sale_day', \n",
    "                 'expert_auth_1', \n",
    "                 'commissaire_pr_1', \n",
    "                 'auction_house_1', \n",
    "                 'title', \n",
    "                 'art_authority_1', \n",
    "                 'nationality_1', \n",
    "                 'attrib_mod_auth_1', \n",
    "                 'object_type', \n",
    "                 'sell_auth_name_1', \n",
    "                 'sell_auth_nameq_1', \n",
    "                 'sell_auth_mod_1', \n",
    "                 'sell_auth_mod_a_1', \n",
    "                 'sell_ulan_1', \n",
    "                 'transaction', \n",
    "                 'price_amount_1', \n",
    "                 'price_currency_1', \n",
    "                 'buy_auth_name_1', \n",
    "                 'pres_loc_geog_1', \n",
    "                 'pres_loc_inst_1']"
   ]
  },
  {
   "cell_type": "markdown",
   "id": "3ca55653-d602-4e44-b9f4-3214175311d9",
   "metadata": {},
   "source": [
    "#### Combine Scandinavian Sales"
   ]
  },
  {
   "cell_type": "code",
   "execution_count": null,
   "id": "0ebcfa2d-038b-4ce0-8338-3b8afe6808bd",
   "metadata": {},
   "outputs": [],
   "source": [
    "sales_scandinavian = pd.read_csv('~/Desktop/data/'+sales_scandinavian, names=sales_header, low_memory=False)"
   ]
  },
  {
   "cell_type": "code",
   "execution_count": null,
   "id": "fa4f7539-e5de-4298-824c-bb89df945bad",
   "metadata": {},
   "outputs": [],
   "source": [
    "scandinavian_sales_filtered = sales_scandinavian[column_filter]"
   ]
  },
  {
   "cell_type": "code",
   "execution_count": null,
   "id": "82927fa9-10f9-4bc8-b0f5-6b7263ce6ae1",
   "metadata": {},
   "outputs": [],
   "source": [
    "scandinavian_sales_filtered.shape"
   ]
  },
  {
   "cell_type": "markdown",
   "id": "c52526d3-751d-42d7-981b-a03a4b1700c2",
   "metadata": {},
   "source": [
    "#### Combine Dutch Sales\n",
    "No combine required, but does require processing."
   ]
  },
  {
   "cell_type": "code",
   "execution_count": null,
   "id": "0262b706-ed24-4cb8-bbd1-6494f24cca55",
   "metadata": {},
   "outputs": [],
   "source": [
    "sales_dutch = pd.read_csv('~/Desktop/data/'+sales_dutch, names=sales_header, low_memory=False)"
   ]
  },
  {
   "cell_type": "code",
   "execution_count": null,
   "id": "72711c6a-0026-4972-b57e-7d4a9d4ab2d9",
   "metadata": {},
   "outputs": [],
   "source": [
    "dutch_sales_filtered = sales_dutch[column_filter]"
   ]
  },
  {
   "cell_type": "code",
   "execution_count": null,
   "id": "758d4fdf-5ce9-420c-95f7-6d7458334704",
   "metadata": {},
   "outputs": [],
   "source": [
    "dutch_sales_filtered.head(2)"
   ]
  },
  {
   "cell_type": "markdown",
   "id": "565d0e08-f051-46e5-9f9b-528aaa2c0a76",
   "metadata": {},
   "source": [
    "#### Combine Belgian Sales\n",
    "No combine required, but does require processing."
   ]
  },
  {
   "cell_type": "code",
   "execution_count": null,
   "id": "a1502cb3-8c37-409e-b84b-5efe4f007ff4",
   "metadata": {},
   "outputs": [],
   "source": [
    "sales_belgian = pd.read_csv('~/Desktop/data/'+sales_belgian, names=sales_header, low_memory=False)"
   ]
  },
  {
   "cell_type": "code",
   "execution_count": null,
   "id": "329b03cd-2948-45ec-a959-035455ed75a3",
   "metadata": {},
   "outputs": [],
   "source": [
    "belgian_sales_filtered = sales_belgian[column_filter]"
   ]
  },
  {
   "cell_type": "code",
   "execution_count": null,
   "id": "0a274590-5f04-445d-817a-6c44ed05b76d",
   "metadata": {},
   "outputs": [],
   "source": [
    "belgian_sales_filtered.head(2)"
   ]
  },
  {
   "cell_type": "markdown",
   "id": "692098ce-7d27-4671-b7ac-b967c670003b",
   "metadata": {},
   "source": [
    "#### Combine French Sales"
   ]
  },
  {
   "cell_type": "code",
   "execution_count": null,
   "id": "56a0a75c-0d0f-4b52-9059-c776b6124415",
   "metadata": {},
   "outputs": [],
   "source": [
    "sales_french1 = pd.read_csv('~/Desktop/data/'+sales_french1, names=sales_header, low_memory=False)\n",
    "sales_french3 = pd.read_csv('~/Desktop/data/'+sales_french3, names=sales_header, low_memory=False)"
   ]
  },
  {
   "cell_type": "code",
   "execution_count": null,
   "id": "78316b33-ef1c-4e9d-8566-b43e771871a5",
   "metadata": {},
   "outputs": [],
   "source": [
    "french_sales_combined = pd.concat([\n",
    "sales_french1,\n",
    "sales_french3\n",
    "], ignore_index=True)"
   ]
  },
  {
   "cell_type": "code",
   "execution_count": null,
   "id": "fa5cd3b7-165a-4e0e-8f2d-487fc83bda33",
   "metadata": {},
   "outputs": [],
   "source": [
    "french_sales_filtered = french_sales_combined[column_filter]"
   ]
  },
  {
   "cell_type": "code",
   "execution_count": null,
   "id": "72951f88-cba9-4bb9-b852-c39b8e657382",
   "metadata": {},
   "outputs": [],
   "source": [
    "french_sales_filtered.head(2)"
   ]
  },
  {
   "cell_type": "markdown",
   "id": "12fcafc6-d520-409e-90bd-9820d2a8cabb",
   "metadata": {},
   "source": [
    "#### Combine German Sales"
   ]
  },
  {
   "cell_type": "code",
   "execution_count": null,
   "id": "7934d754-d92f-42b3-a6c1-093a9bb2f03f",
   "metadata": {},
   "outputs": [],
   "source": [
    "sales_german1 = pd.read_csv('~/Desktop/data/'+sales_german1, names=sales_header, low_memory=False)\n",
    "sales_german2 = pd.read_csv('~/Desktop/data/'+sales_german2, names=sales_header, low_memory=False)\n",
    "sales_german3 = pd.read_csv('~/Desktop/data/'+sales_german3, names=sales_header, low_memory=False)\n",
    "sales_german7 = pd.read_csv('~/Desktop/data/'+sales_german7, names=sales_header, low_memory=False)\n",
    "sales_german8 = pd.read_csv('~/Desktop/data/'+sales_german8, names=sales_header, low_memory=False)"
   ]
  },
  {
   "cell_type": "code",
   "execution_count": null,
   "id": "297d316e-7061-4843-93ba-b8a2ddc9d69c",
   "metadata": {},
   "outputs": [],
   "source": [
    "german_sales_combined = pd.concat([\n",
    "sales_german1,\n",
    "sales_german2,\n",
    "sales_german3,\n",
    "sales_german7,\n",
    "sales_german8,\n",
    "], ignore_index=True)"
   ]
  },
  {
   "cell_type": "code",
   "execution_count": null,
   "id": "b33bd458-29ad-4227-bf19-5d6097da161d",
   "metadata": {},
   "outputs": [],
   "source": [
    "german_sales_filtered = german_sales_combined[column_filter]"
   ]
  },
  {
   "cell_type": "code",
   "execution_count": null,
   "id": "100cfdde-79da-4607-91f9-330d81d31b0a",
   "metadata": {},
   "outputs": [],
   "source": [
    "german_sales_filtered.head(2)"
   ]
  },
  {
   "cell_type": "markdown",
   "id": "b4b2d8a1-53c5-410b-a30e-12190a95cadb",
   "metadata": {},
   "source": [
    "#### Combine British Sales"
   ]
  },
  {
   "cell_type": "code",
   "execution_count": null,
   "id": "5e478033-7c33-4139-865d-de02fdc5621f",
   "metadata": {},
   "outputs": [],
   "source": [
    "british_sales1_df = pd.read_csv('~/Desktop/data/'+sales_british1, names=sales_header, low_memory=False)\n",
    "british_sales2_df = pd.read_csv('~/Desktop/data/'+sales_british2, names=sales_header, low_memory=False)\n",
    "british_sales3_df = pd.read_csv('~/Desktop/data/'+sales_british3, names=sales_header, low_memory=False)\n",
    "british_sales4_df = pd.read_csv('~/Desktop/data/'+sales_british4, names=sales_header, low_memory=False)\n",
    "british_sales5_df = pd.read_csv('~/Desktop/data/'+sales_british5, names=sales_header, low_memory=False)"
   ]
  },
  {
   "cell_type": "code",
   "execution_count": null,
   "id": "f3edfba3-76f2-4180-b06d-00374c4a7bf2",
   "metadata": {},
   "outputs": [],
   "source": [
    "british_sales_combined = pd.concat([british_sales1_df, british_sales2_df, british_sales3_df, british_sales4_df, british_sales5_df], ignore_index=True)"
   ]
  },
  {
   "cell_type": "code",
   "execution_count": null,
   "id": "f4752385-1f68-42f4-9028-7ab0a20b0723",
   "metadata": {},
   "outputs": [],
   "source": [
    "british_sales_filtered = british_sales_combined[column_filter]"
   ]
  },
  {
   "cell_type": "code",
   "execution_count": null,
   "id": "dd79a3fd-c8c9-4242-b529-2905caea19b4",
   "metadata": {},
   "outputs": [],
   "source": [
    "british_sales_filtered.head(2)"
   ]
  },
  {
   "cell_type": "markdown",
   "id": "6b43f7e9-18e0-4830-ab8b-490897694e58",
   "metadata": {},
   "source": [
    "#### Combine All Sales"
   ]
  },
  {
   "cell_type": "code",
   "execution_count": null,
   "id": "2aec9c98-9945-4961-b8bb-d80e1f65eced",
   "metadata": {},
   "outputs": [],
   "source": [
    "sales_combined = pd.concat([british_sales_filtered, german_sales_filtered, french_sales_filtered, belgian_sales_filtered, dutch_sales_filtered, scandinavian_sales_filtered], ignore_index=True)"
   ]
  },
  {
   "cell_type": "code",
   "execution_count": null,
   "id": "ac411100-f264-480a-a8e9-4759e430782a",
   "metadata": {},
   "outputs": [],
   "source": [
    "sales_combined.shape"
   ]
  },
  {
   "cell_type": "code",
   "execution_count": null,
   "id": "a94c04f2-c1d3-4b0e-81f4-4825e61661d5",
   "metadata": {},
   "outputs": [],
   "source": [
    "sales_combined.to_csv('~/Desktop/datathon_sales.csv', index=False) "
   ]
  },
  {
   "cell_type": "markdown",
   "id": "0abd604c-30b3-439f-bef3-97c64cfc4506",
   "metadata": {},
   "source": [
    "### Combine Inventories"
   ]
  },
  {
   "cell_type": "markdown",
   "id": "02e449b9-5876-4386-82d9-2fb329d523f0",
   "metadata": {},
   "source": [
    "#### Italian Inventories?"
   ]
  },
  {
   "cell_type": "code",
   "execution_count": null,
   "id": "5e837353-fc9e-41c0-b6da-2fb9629da90a",
   "metadata": {},
   "outputs": [],
   "source": [
    "inventories_header = ['PUID', 'INVNO', 'CTRY', 'ACTRY', 'CITY', 'ACITY', 'NAME_1', 'NAME_2', 'NAME_3', 'NAME_4', 'NAME_5', 'NAMOD_1', 'NAMOD_2', 'NAMOD_3', 'NAMOD_4', 'OCCU_1', 'OCCU_2', 'SRANK_1', 'SRANK_2', 'SSTAT', 'RES', 'BENE_1', 'BENE_2', 'BENE_3', 'BENE_4', 'BENE_5', 'BENE_6', 'BENE_7', 'BENE_8', 'BENE_9', 'BENE_10', 'BENE_11', 'BENE_12', 'DATE', 'OPAGE', 'APAGE', 'OITEM', 'AITEM', 'PITEM', 'ART_1', 'ART_2', 'ART_3', 'ART_4', 'ART_5', 'AUTH_1', 'AUTH_2', 'AUTH_3', 'AUTH_4', 'AUTH_5', 'NAT_1', 'NAT_2', 'NAT_3', 'NAT_4', 'NAT_5', 'ATMO_1', 'ATMO_2', 'ATMO_3', 'ATMO_4', 'ATMO_5', 'ATMO1', 'ATMO2', 'ATMO3', 'ATMO4', 'ATMO5', 'ENTRY', 'TITLE', 'TMOD', 'ANNOT_1', 'ANNOT_2', 'ICON', 'SUBJ', 'NWCON', 'OBJ', 'MAT', 'DIM', 'FORM', 'INS', 'ROOM', 'NWVAL', 'HEAD', 'FOOT', 'INVS_1', 'INVS_2', 'INVS_3', 'INVS_4', 'PROV_1', 'PROV_2', 'PROV_3', 'PROV_4', 'PROV_5', 'PROSO', 'PROAU_1', 'PROAU_2', 'PRESA', 'POSA_1', 'POSA_2', 'POSA_3', 'POSA_4', 'POSA_5', 'PTOWN_1', 'PTOWN_2', 'PTOWN_3', 'PTOWN_4', 'PTOWN_5', 'PTOWN_6', 'PTOWN_7', 'PTOSO_1', 'PTOSO_2', 'PTOSO_3', 'PTOSO_4', 'PTOSO_5', 'PTOSO_6', 'PTOSO_7', 'PTOAU_1', 'PTOAU_2', 'PTOAU_3', 'PTOAU_4', 'PTOAU_5', 'PTOAU_6', 'PTOAU_7', 'PLOC', 'NOTES', 'PAUTH_1', 'PAUTH_2', 'PAUTH_3', 'PAUTH_4', 'PAUTH_5', 'PFTNT']"
   ]
  },
  {
   "cell_type": "code",
   "execution_count": null,
   "id": "9d6df15e-8732-4ec3-90ac-f5dedea3dcdd",
   "metadata": {},
   "outputs": [],
   "source": [
    "inventories_df = pd.read_csv('~/Desktop/data/'+inventories, names=inventories_header, low_memory=False)"
   ]
  },
  {
   "cell_type": "code",
   "execution_count": null,
   "id": "542beb13-4059-46dc-9abd-6b57a5663f4a",
   "metadata": {},
   "outputs": [],
   "source": [
    "inventories_column_filter = ['PUID',\n",
    "                            'ACTRY',\n",
    "                             'ACITY',\n",
    "                             'NAME_1',\n",
    "                             'DATE',\n",
    "                             'OITEM',\n",
    "                             'AITEM',\n",
    "                             'AUTH_1',\n",
    "                             'NAT_1',\n",
    "                             'ATMO1',\n",
    "                             'ENTRY',\n",
    "                             'TITLE',\n",
    "                             'ICON',\n",
    "                             'SUBJ',\n",
    "                             'OBJ',\n",
    "                             'NWVAL',\n",
    "                             'PLOC'\n",
    "                            ]"
   ]
  },
  {
   "cell_type": "code",
   "execution_count": null,
   "id": "4e627d01-0587-4aa6-97f7-cdf7b48fcbc6",
   "metadata": {},
   "outputs": [],
   "source": [
    "inventories_filtered = inventories_df[inventories_column_filter]"
   ]
  },
  {
   "cell_type": "code",
   "execution_count": null,
   "id": "4d7229f9-8c99-472f-923b-882339951e3a",
   "metadata": {},
   "outputs": [],
   "source": [
    "inventories_filtered.shape"
   ]
  },
  {
   "cell_type": "markdown",
   "id": "9b260092-c950-4af7-b3b9-3b74ed9499f5",
   "metadata": {
    "jp-MarkdownHeadingCollapsed": true
   },
   "source": [
    "#### French Inventories"
   ]
  },
  {
   "cell_type": "code",
   "execution_count": null,
   "id": "563af9e7-f732-470d-a2cd-9b27bbd485e4",
   "metadata": {},
   "outputs": [],
   "source": [
    "french_inventories_header = ['PUID', 'INVNO', 'CTRY', 'CITY', 'NAME_1', 'NAME_2', 'NAMOD_1', 'NAMOD_2', 'RES', 'BENE_1', 'BENE_2', 'BENE_3', 'BENE_4', 'BENE_5', 'BENE_6', 'DATE', 'OPAGE', 'APAGE', 'OITEM', 'AITEM', 'ART_1', 'ART_2', 'ART_3', 'ART_4', 'ART_5', 'ART_6', 'ART_7', 'ART_8', 'ART_9', 'AUTH_1', 'AUTH_2', 'AUTH_3', 'AUTH_4', 'AUTH_5', 'AUTH_6', 'AUTH_7', 'AUTH_8', 'AUTH_9', 'NAT_1', 'NAT_2', 'NAT_3', 'NAT_4', 'NAT_5', 'NAT_6', 'NAT_7', 'NAT_8', 'NAT_9', 'ATMO_1', 'ATMO_2', 'ATMO_3', 'ATMO_4', 'ATMO_5', 'ATMO_6', 'ATMO_7', 'ATMO_8', 'ATMO_9', 'ATMO1', 'ATMO2', 'ATMO3', 'ATMO4', 'ATMO5', 'ATMO6', 'ATMO7', 'ATMO8', 'ATMO9', 'ENTRY', 'TITLE', 'TMOD', 'ANNOT', 'ICON', 'SUBJ', 'NWCON', 'OBJ', 'MAT', 'DIM', 'FORM', 'INS', 'ROOM', 'NWVAL', 'HEAD', 'FOOT', 'RFOOT', 'INVS', 'PROV_1', 'PROV_2', 'PROV_3', 'PROV_4', 'PROSO_1', 'PROSO_2', 'PROSO_3', 'PROAU_1', 'PROAU_2', 'PROAU_3', 'PRESA_1', 'PRESA_2', 'PRESA_3', 'POSA_1', 'POSA_2', 'POSA_3', 'POSA_4', 'POSA_5', 'POSA_6', 'POSA_7', 'PTOWN_1', 'PTOWN_2', 'PTOWN_3', 'PTOSO_1', 'PTOSO_2', 'PTOSO_3', 'PTOAU_1', 'PTOAU_2', 'PTOAU_3', 'PLOC', 'FN', 'NOTES', 'ACITY', 'ACTRY']"
   ]
  },
  {
   "cell_type": "code",
   "execution_count": null,
   "id": "e1172b73-9c69-45fc-8e53-f894018af210",
   "metadata": {},
   "outputs": [],
   "source": [
    "french_inventories_df = pd.read_csv('data/'+inv_french, names=french_inventories_header, low_memory=False)"
   ]
  },
  {
   "cell_type": "code",
   "execution_count": null,
   "id": "fea5c0b7-200b-4e3a-b524-f6e71ff6e178",
   "metadata": {},
   "outputs": [],
   "source": [
    "#french_inventories_column_filter = ['PUID',\n",
    "#                            'ACTRY',\n",
    "#                             'ACITY',\n",
    "#                             'NAME_1',\n",
    "#                             'DATE',\n",
    "#                             'AUTH_1',\n",
    "#                             'NAT_1',\n",
    "#                             'TITLE'\n",
    "#                            ]"
   ]
  },
  {
   "cell_type": "code",
   "execution_count": null,
   "id": "b39d4117-51d4-44cd-958a-d16da87d7d05",
   "metadata": {},
   "outputs": [],
   "source": [
    "french_inventories_filtered = french_inventories_df[inventories_column_filter]"
   ]
  },
  {
   "cell_type": "code",
   "execution_count": null,
   "id": "55d885c3-e4f0-461e-95a8-868575bac5db",
   "metadata": {},
   "outputs": [],
   "source": [
    "french_inventories_filtered.shape"
   ]
  },
  {
   "cell_type": "markdown",
   "id": "9c593a0a-f390-4e9c-b05e-7e0d918e257e",
   "metadata": {},
   "source": [
    "#### Dutch Inventories"
   ]
  },
  {
   "cell_type": "code",
   "execution_count": null,
   "id": "b3b1c64d-0809-4687-b639-0a40d8101d65",
   "metadata": {},
   "outputs": [],
   "source": [
    "dutch_inventories_header = ['PUID', 'INVNO', 'AMSNO', 'CTRY', 'CITY', 'NAME_1', 'NAME_2', 'NAME_3', 'NAME_4', 'NAMOD_1', 'NAMOD_2', 'NAMOD_3', 'NAMOD_4', 'RES', 'BENE_1', 'BENE_2', 'BENE_3', 'BENE_4', 'BENE_5', 'BENE_6', 'BENE_7', 'BENE_8', 'BENE_9', 'BENE_10', 'DDATE', 'DATE', 'OPAGE', 'APAGE', 'OITEM', 'TOITM', 'AITEM', 'PITEM', 'ART_1', 'ART_2', 'ART_3', 'ART_4', 'ART_5', 'AUTH_1', 'AUTH_2', 'AUTH_3', 'AUTH_4', 'AUTH_5', 'PAUTH', 'NAT_1', 'NAT_2', 'NAT_3', 'NAT_4', 'NAT_5', 'ATMO_1', 'ATMO_2', 'ATMO_3', 'ATMO1', 'ATMO2', 'ENTRY', 'TITLE', 'TMOD', 'ANNOT', 'ICON', 'SUBJ', 'NWCON', 'OBJ', 'MAT', 'DIM', 'FORM', 'INS', 'ROOM', 'SROOM', 'NWVAL', 'HEAD', 'FOOT', 'INVS', 'PROV', 'PROSO', 'PROAU', 'PRESA', 'POSA', 'PTOWN_1', 'PTOWN_2', 'PTOWN_3', 'PTOSO', 'PTOAU', 'PLOC', 'NEXT', 'NOTES', 'ACITY', 'ACTRY']"
   ]
  },
  {
   "cell_type": "code",
   "execution_count": null,
   "id": "0faa50a2-322c-4a53-ad8d-78844194955f",
   "metadata": {},
   "outputs": [],
   "source": [
    "dutch_inventories_df = pd.read_csv('~/Desktop/data/'+inv_dutch, names=dutch_inventories_header, low_memory=False)"
   ]
  },
  {
   "cell_type": "code",
   "execution_count": null,
   "id": "1eb79970-2900-45a3-ae2a-8463bfe54ada",
   "metadata": {},
   "outputs": [],
   "source": [
    "dutch_inventories_filtered = dutch_inventories_df[inventories_column_filter]"
   ]
  },
  {
   "cell_type": "code",
   "execution_count": null,
   "id": "7991f451-6e9e-482d-8b25-35c965e9710c",
   "metadata": {},
   "outputs": [],
   "source": [
    "dutch_inventories_filtered.shape"
   ]
  },
  {
   "cell_type": "markdown",
   "id": "2e58b76a-c5ee-47ad-82da-ad8f61486004",
   "metadata": {},
   "source": [
    "#### Spanish Inventories"
   ]
  },
  {
   "cell_type": "code",
   "execution_count": null,
   "id": "0db7ac96-a3af-4fb8-8f92-637cf5a0ef59",
   "metadata": {},
   "outputs": [],
   "source": [
    "spanish_inventories_header = ['PUID', 'INVNO', 'CTRY', 'CITY', 'NAME_1', 'NAME_2', 'NAME_3', 'NAMOD_1', 'NAMOD_2', 'NAMOD_3', 'RES', 'BENE_1', 'BENE_2', 'BENE_3', 'BENE_4', 'BENE_5', 'BENE_6', 'DATE', 'OPAGE', 'APAGE', 'OITEM', 'AITEM', 'PITEM_1', 'PITEM_2', 'PITEM_3', 'PITEM_4', 'PITEM_5', 'ART_1', 'ART_2', 'ART_3', 'AUTH_1', 'AUTH_2', 'AUTH_3', 'NAT_1', 'NAT_2', 'NAT_3', 'ATMO_1', 'ATMO_2', 'ATMO_3', 'ATMO1', 'ATMO2', 'ENTRY', 'TITLE', 'TMOD', 'ANNOT', 'ICON', 'SUBJ', 'NWCON', 'OBJ', 'OBAUT', 'MAT', 'DIM', 'FORM', 'INS', 'ROOM', 'NWVAL', 'HEAD', 'FOOT', 'INVS_1', 'INVS_2', 'PROV_1', 'PROV_2', 'PROSO', 'PROAU_1', 'PROAU_2', 'PRESA', 'POSA_1', 'POSA_2', 'POSA_3', 'PTOWN_1', 'PTOWN_2', 'PTOWN_3', 'PTOSO_1', 'PTOSO_2', 'PTOSO_3', 'PTOAU_1', 'PTOAU_2', 'PTOAU_3', 'PLOC', 'PFTNT', 'NOTES', 'PTITM', 'ACITY', 'ACTRY']"
   ]
  },
  {
   "cell_type": "code",
   "execution_count": null,
   "id": "6b5e0e51-32d8-445e-bdba-bf3ab273fdf4",
   "metadata": {},
   "outputs": [],
   "source": [
    "spanish_inventories_df = pd.read_csv('~/Desktop/data/'+inv_spanish, names=spanish_inventories_header, low_memory=False)"
   ]
  },
  {
   "cell_type": "code",
   "execution_count": null,
   "id": "4ab44134-a1a9-49e0-9150-311d9cff9c49",
   "metadata": {},
   "outputs": [],
   "source": [
    "spanish_inventories_filtered = spanish_inventories_df[inventories_column_filter]"
   ]
  },
  {
   "cell_type": "code",
   "execution_count": null,
   "id": "52af9737-a43d-4e62-865c-155ca5633842",
   "metadata": {},
   "outputs": [],
   "source": [
    "spanish_inventories_filtered.shape"
   ]
  },
  {
   "cell_type": "markdown",
   "id": "3049886a-e312-40f9-b9a4-b03eec62a2ea",
   "metadata": {},
   "source": [
    "#### German Inventories"
   ]
  },
  {
   "cell_type": "code",
   "execution_count": null,
   "id": "de3c1c54-7f16-4942-ad29-b4ae159b6788",
   "metadata": {},
   "outputs": [],
   "source": [
    "german_inventories_header = ['PUID', 'INVNO', 'CTRY', 'ACTRY', 'CITY', 'ACITY', 'NAME_1', 'NAMOD', 'RES', 'BENE', 'DATE', 'OPAGE', 'APAGE', 'OITEM', 'AITEM', 'ART_1', 'ART_2', 'AUTH_1', 'AUTH_2', 'NAT_1', 'NAT_2', 'ATMO_1', 'ATMO_2', 'ATMO1', 'ATMO2', 'ENTRY', 'TITLE', 'TMOD', 'ANNOT', 'ICON', 'SUBJ', 'NWCON', 'OBJ', 'MAT', 'DIM', 'FORM', 'INS', 'ROOM', 'HEAD', 'FOOT', 'INVS', 'PROV', 'PROSO', 'PROAU', 'PRESA', 'POSA', 'PTOWN', 'PTOSO', 'PTOAU', 'PLOC', 'NOTES']"
   ]
  },
  {
   "cell_type": "code",
   "execution_count": null,
   "id": "066048f4-079a-41f8-9ddd-39d59c3c1a70",
   "metadata": {},
   "outputs": [],
   "source": [
    "german_inventories_df = pd.read_csv('~/Desktop/data/'+inv_german, names=german_inventories_header, low_memory=False)"
   ]
  },
  {
   "cell_type": "code",
   "execution_count": null,
   "id": "2c093fce-9d11-44f6-842d-f2e4708bc009",
   "metadata": {},
   "outputs": [],
   "source": [
    "german_inventories_df['NWVAL'] = 'Not included in German inventories'"
   ]
  },
  {
   "cell_type": "code",
   "execution_count": null,
   "id": "78956cd4-3d98-4981-a639-e02d412f5e3f",
   "metadata": {},
   "outputs": [],
   "source": [
    "german_inventories_filtered = german_inventories_df[inventories_column_filter]"
   ]
  },
  {
   "cell_type": "code",
   "execution_count": null,
   "id": "78343bcf-0b30-4cf1-83e6-de77bd0f7346",
   "metadata": {},
   "outputs": [],
   "source": [
    "german_inventories_filtered.shape"
   ]
  },
  {
   "cell_type": "markdown",
   "id": "9c4cc485-7a7d-4b65-9898-ca29e47de0a2",
   "metadata": {},
   "source": [
    "#### Combine All Inventories"
   ]
  },
  {
   "cell_type": "code",
   "execution_count": null,
   "id": "4404ee9e-cabb-4f41-940e-fb8d1862fabf",
   "metadata": {},
   "outputs": [],
   "source": [
    "inventories_combined = pd.concat([inventories_filtered, french_inventories_filtered, dutch_inventories_filtered, spanish_inventories_filtered, german_inventories_filtered], ignore_index=True)"
   ]
  },
  {
   "cell_type": "code",
   "execution_count": null,
   "id": "8691ee03-a9eb-48ad-aa8a-2203798306f4",
   "metadata": {},
   "outputs": [],
   "source": [
    "inventories_combined.shape"
   ]
  },
  {
   "cell_type": "code",
   "execution_count": null,
   "id": "094342f0-f707-4a0e-9a72-ebfc8bcd7471",
   "metadata": {},
   "outputs": [],
   "source": [
    "inventories_combined.to_csv('~/Desktop/datathon_inventories.csv', index=False) "
   ]
  },
  {
   "cell_type": "markdown",
   "id": "173ee88d-4389-4c5b-8ba6-3b1844823271",
   "metadata": {},
   "source": [
    "### Load and Modify Knoedler"
   ]
  },
  {
   "cell_type": "code",
   "execution_count": null,
   "id": "8c774bc5-7a8a-4586-b30f-845971d95855",
   "metadata": {},
   "outputs": [],
   "source": [
    "# Some of the datasets come headerless. \n",
    "knoedler_header = ['STAR Record No.', 'PI Record No.', 'Stock Book No.', 'Knoedler Number', 'Page Number', 'Row Number', 'Consign. No.', 'Consign. Name', 'Consign. Auth', 'Consign. Loc.', 'Artist Name 1', 'Art. Authority 1', 'Nationality 1', 'Attrib Mod 1', 'Attrib Mod Auth1', 'Artist Name 2', 'Art. Authority 2', 'Nationality 2', 'Attrib Mod 2', 'Attrib Mod Auth2', 'Title', 'Description', 'Subject', 'Genre', 'Object Type', 'Materials', 'Dimensions', 'Entry Date-Year', 'Entry Date-Month', 'Entry Date-Day', 'Sale Date-Year', 'Sale Date-Month', 'Sale Date-Day', 'Purch. Amount', 'Purch. Currency', 'Purch. Note', 'KnoedPurch Amt.', 'KnoedPurch Curr.', 'KnoedPurch Note', 'Price Amount', 'Price Currency', 'Price Note', 'KnoedSale Amt.', 'KnoedSale Curr. ', 'KnoedSale Note', 'Seller Name 1', 'Seller Loc 1', 'Sell Auth Name 1', 'Sell Auth Loc 1', 'Sell Auth Mod 1', 'Seller Name 2', 'Seller Loc 2', 'Sell Auth Name 2', 'Sell Auth Loc 2', 'Sell Auth Mod 2', 'Seller Name 3 ', 'Seller Loc 3 ', 'Sell Auth Name 3 ', 'Sell Auth Loc 3 ', 'Sell Auth Mod 3 ', 'Joint Own 1', 'Joint Own Auth 1 ', 'Joint Own Sh 1', 'Joint Own 2', 'Joint Own Auth 2 ', 'Joint Own Sh 2', 'Joint Own 3', 'Joint Own Auth 3 ', 'Joint Own Sh 3', 'Transaction', 'Buyer Name 1', 'Buyer Loc 1', 'Buy Auth Name 1', 'Buy Auth Addr 1', 'Buy Auth Mod 1', 'Buyer Name 2', 'Buyer Loc 2', 'Buy Auth Name 2', 'Buy Auth Addr 2', 'Buy Auth Mod 2', 'Folio', 'prev own 1', 'prev own auth1 ', 'prev own loc1', 'prev own 2', 'prev own auth2 ', 'prev own loc2', 'prev own 3', 'prev own auth3 ', 'prev own loc3', 'prev own 4', 'prev own auth4 ', 'prev own loc4', 'prev own 5', 'prev own auth5 ', 'prev own loc5', 'prev own 6', 'prev own auth6 ', 'prev own loc6', 'prev own 7', 'prev own auth7 ', 'prev own loc7', 'prev own 8', 'prev own auth8 ', 'prev own loc8', 'prev own 9', 'prev own auth9 ', 'prev own loc9', 'post owner', 'post own auth ', 'Present Loc Geog', 'Present Loc Inst', 'Present Loc Acc', 'Present Loc Note', 'Working Note', 'Verbatim Notes', 'Rosetta Handle', 'Main Heading', 'Subheading', 'Flag']\n",
    "\n",
    "# Huge datasets are not loaded by default. Setting the 'low_memory' variable to false disables this. \n",
    "knoedler_df = pd.read_csv('~/Desktop/data/' + knoedler, names=knoedler_header, low_memory=False)"
   ]
  },
  {
   "cell_type": "code",
   "execution_count": null,
   "id": "a607a93f-1847-4793-a10f-5c6b67dcaffd",
   "metadata": {},
   "outputs": [],
   "source": [
    "knoedler_column_filter = ['PI Record No.', \n",
    "                          'Stock Book No.', \n",
    "                          'Knoedler Number', \n",
    "                          'Page Number', \n",
    "                          'Row Number', \n",
    "                          'Art. Authority 1', \n",
    "                          'Nationality 1', \n",
    "                          'Title', \n",
    "                          'Object Type', \n",
    "                          'Entry Date-Year', \n",
    "                          'Entry Date-Month', \n",
    "                          'Entry Date-Day', \n",
    "                          'Sale Date-Year', \n",
    "                          'Sale Date-Month', \n",
    "                          'Sale Date-Day', \n",
    "                          'Purch. Amount', \n",
    "                          'Purch. Currency',\n",
    "                          'Price Amount', \n",
    "                          'Price Currency', \n",
    "                          'Sell Auth Name 1', \n",
    "                          'Sell Auth Loc 1', \n",
    "                          'Joint Own Auth 1 ', \n",
    "                          'Transaction', \n",
    "                          'Buy Auth Name 1', \n",
    "                          'Buy Auth Addr 1', \n",
    "                          'Present Loc Geog', \n",
    "                          'Present Loc Inst']"
   ]
  },
  {
   "cell_type": "code",
   "execution_count": null,
   "id": "15f06e30-8893-433c-9082-fac72b2af70d",
   "metadata": {},
   "outputs": [],
   "source": [
    "knoedler_filtered = knoedler_df[knoedler_column_filter]"
   ]
  },
  {
   "cell_type": "code",
   "execution_count": null,
   "id": "90cdccf4-61cf-4b48-9c0f-fd9cc61be3b4",
   "metadata": {},
   "outputs": [],
   "source": [
    "knoedler_filtered.shape"
   ]
  },
  {
   "cell_type": "code",
   "execution_count": null,
   "id": "be55db27-f062-4df7-bb20-57b649d6345e",
   "metadata": {},
   "outputs": [],
   "source": [
    "knoedler_filtered.to_csv('~/Desktop/datathon_knoedler.csv', index=False) "
   ]
  },
  {
   "cell_type": "markdown",
   "id": "985c21e7-3f67-4827-8bca-deb825f30db2",
   "metadata": {},
   "source": [
    "### Load and Modify Goupil"
   ]
  },
  {
   "cell_type": "code",
   "execution_count": null,
   "id": "f8a8a479-215b-4629-bf7e-d6304fd259a2",
   "metadata": {},
   "outputs": [],
   "source": [
    "goupil_header = ['STAR_record_no', 'pi_record_no', 'stock_book_no_1', 'stock_book_gno_1', 'stock_book_pg_1', 'stock_book_row_1', 'stock_book_no_2', 'stock_book_gno_2', 'stock_book_pg_2', 'stock_book_row_2', 'stock_book_no_3', 'stock_book_gno_3', 'stock_book_pg_3', 'stock_book_row_3', 'stock_book_no_4', 'stock_book_gno_4', 'stock_book_pg_4', 'stock_book_row_4', 'stock_book_no_5', 'stock_book_gno_5', 'stock_book_pg_5', 'stock_book_row_5', 'stock_book_no_6', 'stock_book_gno_6', 'stock_book_pg_6', 'stock_book_row_6', 'stock_book_no_7', 'stock_book_gno_7', 'stock_book_pg_7', 'stock_book_row_7', 'stock_book_no_8', 'stock_book_gno_8', 'stock_book_pg_8', 'stock_book_row_8', 'goupil_object_ID', 'goupil_event_ord', 'artist_name_1', 'art_authority_1', 'nationality_1', 'attribution_mod_1', 'attribution_auth_mod_1', 'artist_ulan_id_1', 'artist_name_2', 'art_authority_2', 'nationality_2', 'attribution_mod_2', 'attribution_auth_mod_2', 'artist_ulan_id_2', 'title', 'description', 'subject', 'genre', 'object_type', 'materials', 'Dimensions', 'entry_date_year', 'entry_date_month', 'entry_date_day', 'sale_date_year', 'sale_date_month', 'sale_date_day', 'purch_amount', 'purch_code', 'purch_currency', 'purch_frame', 'purch_note', 'purch_ques', 'purch_loc', 'purch_loc_note', 'cost_code', 'cost_translation', 'cost_currency', 'cost_frame', 'cost_description', 'cost_number', 'other_fact_codes', 'price_amount_1', 'price_code_1', 'price_currency_1', 'price_note_1', 'price_amount_2', 'price_code_2', 'price_currency_2', 'price_note_2', 'seller_name_1', 'seller_loc_1', 'sell_auth_name_1', 'sell_auth_loc_1', 'sell_auth_mod_1', 'seller_name_2', 'seller_loc_2', 'sell_auth_name_2', 'sell_auth_loc_2', 'sell_auth_mod_2', 'joint_own_1', 'joint_own_auth_1', 'joint_own_sh_1', 'joint_own_2', 'joint_own_auth_2', 'joint_own_sh_2', 'joint_own_3', 'joint_own_auth_3', 'joint_own_sh_3', 'transaction', 'buyer_name_1', 'buyer_loc_1', 'buy_auth_name_1', 'buy_auth_addr_1', 'buy_auth_mod_1', 'buyer_name_2', 'buyer_loc_2', 'buy_auth_name_2', 'buy_auth_addr_2', 'buy_auth_mod_2', 'prev_own_1', 'prev_own_auth_1', 'prev_own_loc_1', 'prev_own_2', 'prev_own_auth_2', 'prev_own_loc_2', 'prev_own_3', 'prev_own_auth_3', 'prev_own_loc_3', 'prev_own_4', 'prev_own_auth_4', 'prev_own_loc_4', 'prev_own_5', 'prev_own_auth_5', 'prev_own_loc_5', 'prev_own_6', 'prev_own_auth_6', 'prev_own_loc_6', 'prev_own_7', 'prev_own_auth_7', 'prev_own_loc_7', 'prev_own_8', 'prev_own_auth_8', 'prev_own_loc_8', 'prev_own_9', 'prev_own_auth_9', 'prev_own_loc_9', 'previous_sales', 'post_sales', 'post_own_1', 'post_own_auth_1', 'post_own_so_1', 'post_own_2', 'post_own_auth_2', 'post_own_so_2', 'post_own_3', 'post_own_auth_3', 'post_own_so_3', 'sale_location', 'present_loc_geog', 'present_loc_inst', 'present_loc_acc', 'present_loc_note', 'working_note', 'verbatim_notes', 'editor_notes', 'no_name_notes', 'rosetta_handle', 'Persistent_UID', 'sell_flag']\n",
    "goupil_df = pd.read_csv('~/Desktop/data/' + goupil, names=goupil_header, low_memory=False)"
   ]
  },
  {
   "cell_type": "code",
   "execution_count": null,
   "id": "6e210177-d0b6-4f9a-b9a6-01a8e54b0361",
   "metadata": {},
   "outputs": [],
   "source": [
    "goupil_column_filter = ['pi_record_no', 'stock_book_no_1', 'stock_book_gno_1', 'stock_book_pg_1', 'stock_book_row_1',  'goupil_object_ID', 'art_authority_1', 'nationality_1', 'title', 'object_type', 'entry_date_year', 'entry_date_month', 'entry_date_day', 'sale_date_year', 'sale_date_month', 'sale_date_day', 'purch_amount', 'purch_currency', 'price_amount_1', 'price_currency_1', 'sell_auth_name_1', 'sell_auth_loc_1', 'joint_own_auth_1', 'transaction', 'buy_auth_name_1', 'buy_auth_addr_1', 'sale_location', 'present_loc_geog', 'present_loc_inst']"
   ]
  },
  {
   "cell_type": "code",
   "execution_count": null,
   "id": "e35b2b13-d250-4d57-8e68-dae2364d9c94",
   "metadata": {},
   "outputs": [],
   "source": [
    "goupil_filtered = goupil_df[goupil_column_filter]"
   ]
  },
  {
   "cell_type": "code",
   "execution_count": null,
   "id": "5346db9a-64cc-47b3-91d1-fc13e7cd4610",
   "metadata": {},
   "outputs": [],
   "source": [
    "goupil_filtered.shape"
   ]
  },
  {
   "cell_type": "code",
   "execution_count": null,
   "id": "aa8fd4af-33f6-4c0d-b2ac-3848e3152092",
   "metadata": {},
   "outputs": [],
   "source": [
    "goupil_filtered.to_csv('~/Desktop/datathon_goupil.csv', index=False) "
   ]
  },
  {
   "cell_type": "markdown",
   "id": "03907c86-ce6b-4104-90be-8497d244c8b8",
   "metadata": {},
   "source": [
    "### Reload as one dataframe"
   ]
  },
  {
   "cell_type": "code",
   "execution_count": null,
   "id": "474898a9-b96f-4635-8824-88b13caa102e",
   "metadata": {},
   "outputs": [],
   "source": [
    "data = knoedler_df"
   ]
  },
  {
   "cell_type": "markdown",
   "id": "99386b8b-40bc-473d-8d98-a066920e53e6",
   "metadata": {},
   "source": [
    "## 3. Importing Filtered Data\n",
    "This imports the data included on the zip file that was provided for the datathon. You can put it wherever you want, but it currently should run directly off of your Desktop folder. Just unzip the downloaded zip file while it is on your Desktop.\n",
    "\n",
    "File: https://www.dropbox.com/scl/fi/5hjhlosycq8kbnnmdlrki/datathon_combined.zip?rlkey=i7ke5q7b095e2zkcm08g0l7u6&dl=0"
   ]
  },
  {
   "cell_type": "code",
   "execution_count": 3,
   "id": "4f753db2-3d08-4518-a653-6771a458a3fe",
   "metadata": {},
   "outputs": [],
   "source": [
    "sales_datathon = pd.read_csv('~/Desktop/datathon_combined/'+'datathon_sales.csv', low_memory=False)\n",
    "inventories_datathon = pd.read_csv('~/Desktop/datathon_combined/'+'datathon_inventories.csv', low_memory=False)\n",
    "knoedler_datathon = pd.read_csv('~/Desktop/datathon_combined/'+'datathon_knoedler.csv', low_memory=False)\n",
    "goupil_datathon = pd.read_csv('~/Desktop/datathon_combined/'+'datathon_goupil.csv', low_memory=False)\n",
    "xwebcolls_datathon = pd.read_csv('~/Desktop/datathon_combined/'+'datathon_xwebcolls.csv', low_memory=False)\n",
    "collectors_datathon = pd.read_csv('~/Desktop/datathon_combined/'+'datathon_collectors.csv', low_memory=False)\n",
    "prices_datathon = pd.read_csv('~/Desktop/datathon_combined/'+'datathon_prices.csv', low_memory=False)"
   ]
  },
  {
   "cell_type": "markdown",
   "id": "3f4bc139-63a3-4326-874a-3deb97ca27cd",
   "metadata": {},
   "source": [
    "## 4. Data Visualization"
   ]
  },
  {
   "cell_type": "markdown",
   "id": "a3736c6b-b81a-44a8-a242-ad3c158a3f44",
   "metadata": {},
   "source": [
    "#### Some basics statistics: Sales\n",
    "Let's try to set up a bar graph of sales by nation, first."
   ]
  },
  {
   "cell_type": "code",
   "execution_count": 4,
   "id": "8ecdbdd3-ca18-41c8-95cb-a3cae3f796c7",
   "metadata": {},
   "outputs": [],
   "source": [
    "data = sales_datathon"
   ]
  },
  {
   "cell_type": "code",
   "execution_count": 5,
   "id": "c670c858-00d3-415d-b87c-932036a08bdc",
   "metadata": {},
   "outputs": [
    {
     "name": "stderr",
     "output_type": "stream",
     "text": [
      "/var/folders/j5/97gpp4b53yx3r0xxtl9wh1p80000gn/T/ipykernel_51162/983363224.py:5: SettingWithCopyWarning: \n",
      "A value is trying to be set on a copy of a slice from a DataFrame.\n",
      "Try using .loc[row_indexer,col_indexer] = value instead\n",
      "\n",
      "See the caveats in the documentation: https://pandas.pydata.org/pandas-docs/stable/user_guide/indexing.html#returning-a-view-versus-a-copy\n",
      "  sales_datathon[i] = sales_datathon[i].astype(int)\n",
      "/var/folders/j5/97gpp4b53yx3r0xxtl9wh1p80000gn/T/ipykernel_51162/983363224.py:5: SettingWithCopyWarning: \n",
      "A value is trying to be set on a copy of a slice from a DataFrame.\n",
      "Try using .loc[row_indexer,col_indexer] = value instead\n",
      "\n",
      "See the caveats in the documentation: https://pandas.pydata.org/pandas-docs/stable/user_guide/indexing.html#returning-a-view-versus-a-copy\n",
      "  sales_datathon[i] = sales_datathon[i].astype(int)\n",
      "/var/folders/j5/97gpp4b53yx3r0xxtl9wh1p80000gn/T/ipykernel_51162/983363224.py:5: SettingWithCopyWarning: \n",
      "A value is trying to be set on a copy of a slice from a DataFrame.\n",
      "Try using .loc[row_indexer,col_indexer] = value instead\n",
      "\n",
      "See the caveats in the documentation: https://pandas.pydata.org/pandas-docs/stable/user_guide/indexing.html#returning-a-view-versus-a-copy\n",
      "  sales_datathon[i] = sales_datathon[i].astype(int)\n"
     ]
    }
   ],
   "source": [
    "# Let's convert some columns to integers\n",
    "sales_datathon = sales_datathon.dropna(subset='lot_sale_year')\n",
    "int_columns = ['lot_sale_year','lot_sale_month','lot_sale_day']\n",
    "for i in int_columns:\n",
    "    sales_datathon[i] = sales_datathon[i].astype(int)"
   ]
  },
  {
   "cell_type": "code",
   "execution_count": null,
   "id": "9cd21bab-2a86-4022-9d7b-60982c640aac",
   "metadata": {},
   "outputs": [],
   "source": [
    "# Before starting, let's confirm that all the sales catalogues are here. Excel won't show rows beyond ~1.04m.\n",
    "# But Belgian sales begins after this. So let's just look for an example. What we find comes after that threshold.\n",
    "sales_datathon[sales_datathon['catalog_number']=='SC-A77']"
   ]
  },
  {
   "cell_type": "code",
   "execution_count": 6,
   "id": "1dc8c2ea-8271-47d4-816c-06327ba7a73f",
   "metadata": {},
   "outputs": [
    {
     "data": {
      "text/plain": [
       "(1226235, 25)"
      ]
     },
     "execution_count": 6,
     "metadata": {},
     "output_type": "execute_result"
    }
   ],
   "source": [
    "# And in fact a quick look at the shape of the df shows the df has 1,218,753 rows.\n",
    "sales_datathon.shape"
   ]
  },
  {
   "cell_type": "code",
   "execution_count": null,
   "id": "d2e115e6-9a92-43c9-af75-9c5128a5b309",
   "metadata": {},
   "outputs": [],
   "source": [
    "# Filtering strings, counting rows, etc. is not the thing that can catastrophically slow down a computer\n",
    "# going through this data. It's attempting to depict it all at once in one place.\n",
    "# So don't use .head() unless you plan on only doing it for one or two rows. When gathering statistics,\n",
    "# we want to use Python's .count() function\n",
    "\n",
    "sales_datathon.head(2)"
   ]
  },
  {
   "cell_type": "code",
   "execution_count": 13,
   "id": "baaa9d46-b534-4af0-96e2-d53c90611790",
   "metadata": {},
   "outputs": [
    {
     "data": {
      "text/plain": [
       "<Axes: xlabel='Catalog', ylabel='Numbers'>"
      ]
     },
     "execution_count": 13,
     "metadata": {},
     "output_type": "execute_result"
    },
    {
     "data": {
      "image/png": "[encoded data removed]",
      "text/plain": [
       "<Figure size 640x480 with 1 Axes>"
      ]
     },
     "metadata": {},
     "output_type": "display_data"
    }
   ],
   "source": [
    "# Let get some numbers for the whole dataset first. We visualize with Seaborn.\n",
    "def number_getter(subset, data):\n",
    "    count = sales_datathon[sales_datathon['catalog_number'].str.contains(subset)].count().iloc[1]\n",
    "    return count\n",
    "\n",
    "sales_datathon_counts = pd.DataFrame({\n",
    "    'Catalog': ['British', 'German', 'Dutch', 'French', 'Scandanavian', 'Belgian'],\n",
    "    'Numbers': [number_getter('Br-', sales_datathon), number_getter('D-', sales_datathon), number_getter('N-', sales_datathon), \n",
    "                number_getter('F-', sales_datathon), number_getter('SC-', sales_datathon), number_getter('B-', sales_datathon) ]\n",
    "}    \n",
    ")\n",
    "\n",
    "import seaborn as sns\n",
    "\n",
    "sns.barplot(sales_datathon_counts, x=\"Catalog\", y=\"Numbers\", hue=\"Catalog\")\n"
   ]
  },
  {
   "cell_type": "code",
   "execution_count": 14,
   "id": "8de8666c-3361-47c1-bb59-e2ccc0a11ad7",
   "metadata": {},
   "outputs": [],
   "source": [
    "# This function returns numbers on sales events based on two inputs: time period, and a dataset.\n",
    "# time_period goes in as a list with two integers—min and max of range.\n",
    "def catalog_counter(time_period, sales_datathon):\n",
    "    # number_getter needs to be re-instantiated inside the function, or else it targets the sales_datathon variable outside of it\n",
    "    def number_getter(subset, data):\n",
    "        count = sales_datathon[sales_datathon['catalog_number'].str.contains(subset)].count().iloc[1]\n",
    "        return count\n",
    "    sales_datathon = sales_datathon[(sales_datathon['lot_sale_year'] > time_period[0]) & (sales_datathon['lot_sale_year'] < time_period[1])]\n",
    "    sales_counts = pd.DataFrame({\n",
    "        'Catalog': ['British', 'German', 'Dutch', 'French', 'Scandanavian', 'Belgian'],\n",
    "        'Numbers': [number_getter('Br-', sales_datathon), number_getter('D-', sales_datathon), number_getter('N-', sales_datathon), \n",
    "                    number_getter('F-', sales_datathon), number_getter('SC-', sales_datathon), number_getter('B-', sales_datathon) ]\n",
    "    }    \n",
    "    )\n",
    "    return sales_counts\n"
   ]
  },
  {
   "cell_type": "code",
   "execution_count": 8,
   "id": "9b5672db-aa89-45d9-9421-faf216858a66",
   "metadata": {},
   "outputs": [
    {
     "data": {
      "text/html": [
       "<div>\n",
       "<style scoped>\n",
       "    .dataframe tbody tr th:only-of-type {\n",
       "        vertical-align: middle;\n",
       "    }\n",
       "\n",
       "    .dataframe tbody tr th {\n",
       "        vertical-align: top;\n",
       "    }\n",
       "\n",
       "    .dataframe thead th {\n",
       "        text-align: right;\n",
       "    }\n",
       "</style>\n",
       "<table border=\"1\" class=\"dataframe\">\n",
       "  <thead>\n",
       "    <tr style=\"text-align: right;\">\n",
       "      <th></th>\n",
       "      <th>Catalog</th>\n",
       "      <th>Numbers</th>\n",
       "    </tr>\n",
       "  </thead>\n",
       "  <tbody>\n",
       "    <tr>\n",
       "      <th>0</th>\n",
       "      <td>British</td>\n",
       "      <td>38231</td>\n",
       "    </tr>\n",
       "    <tr>\n",
       "      <th>1</th>\n",
       "      <td>German</td>\n",
       "      <td>368</td>\n",
       "    </tr>\n",
       "    <tr>\n",
       "      <th>2</th>\n",
       "      <td>Dutch</td>\n",
       "      <td>1131</td>\n",
       "    </tr>\n",
       "    <tr>\n",
       "      <th>3</th>\n",
       "      <td>French</td>\n",
       "      <td>245</td>\n",
       "    </tr>\n",
       "    <tr>\n",
       "      <th>4</th>\n",
       "      <td>Scandanavian</td>\n",
       "      <td>211</td>\n",
       "    </tr>\n",
       "    <tr>\n",
       "      <th>5</th>\n",
       "      <td>Belgian</td>\n",
       "      <td>73</td>\n",
       "    </tr>\n",
       "  </tbody>\n",
       "</table>\n",
       "</div>"
      ],
      "text/plain": [
       "        Catalog  Numbers\n",
       "0       British    38231\n",
       "1        German      368\n",
       "2         Dutch     1131\n",
       "3        French      245\n",
       "4  Scandanavian      211\n",
       "5       Belgian       73"
      ]
     },
     "execution_count": 8,
     "metadata": {},
     "output_type": "execute_result"
    }
   ],
   "source": [
    "# An example of the function\n",
    "catalog_counter([1650,1700],sales_datathon)"
   ]
  },
  {
   "cell_type": "code",
   "execution_count": 9,
   "id": "d69f7033-ab4d-4dd1-b3c3-4a8a8e43f8ec",
   "metadata": {},
   "outputs": [
    {
     "name": "stdout",
     "output_type": "stream",
     "text": [
      "++++++++++1650-1700+++++++++++\n",
      "        Catalog  Numbers\n",
      "0       British    38231\n",
      "1        German      368\n",
      "2         Dutch     1131\n",
      "3        French      245\n",
      "4  Scandanavian      211\n",
      "5       Belgian       73\n",
      "++++++++++1700-1750+++++++++++\n",
      "        Catalog  Numbers\n",
      "0       British    33900\n",
      "1        German     3107\n",
      "2         Dutch     8526\n",
      "3        French      583\n",
      "4  Scandanavian      556\n",
      "5       Belgian     3583\n",
      "++++++++++1750-1800+++++++++++\n",
      "        Catalog  Numbers\n",
      "0       British   162331\n",
      "1        German    44741\n",
      "2         Dutch      188\n",
      "3        French    66769\n",
      "4  Scandanavian     6438\n",
      "5       Belgian    34241\n",
      "++++++++++1800-1850+++++++++++\n",
      "        Catalog  Numbers\n",
      "0       British   317549\n",
      "1        German        0\n",
      "2         Dutch    39998\n",
      "3        French     1963\n",
      "4  Scandanavian        0\n",
      "5       Belgian    63142\n",
      "++++++++++1850-1900+++++++++++\n",
      "        Catalog  Numbers\n",
      "0       British     1592\n",
      "1        German        0\n",
      "2         Dutch        0\n",
      "3        French        0\n",
      "4  Scandanavian        0\n",
      "5       Belgian        0\n",
      "++++++++++1900-1950+++++++++++\n",
      "        Catalog  Numbers\n",
      "0       British        0\n",
      "1        German   381833\n",
      "2         Dutch        0\n",
      "3        French        0\n",
      "4  Scandanavian        0\n",
      "5       Belgian        0\n"
     ]
    }
   ],
   "source": [
    "# A while loop will return all counts by, say, 50-year period\n",
    "semicent = 1650\n",
    "while semicent < 1950:\n",
    "    print('++++++++++'+str(semicent)+'-'+str(semicent+50)+'+++++++++++')\n",
    "    print(catalog_counter([semicent,semicent+50],sales_datathon))\n",
    "    #sns.barplot(catalog_counter([sesqui,sesqui+50],sales_datathon), x=\"Catalog\", y=\"Numbers\", hue=\"Catalog\")\n",
    "    semicent+=50\n"
   ]
  },
  {
   "cell_type": "markdown",
   "id": "25a09772-3ab7-4144-9fa5-a44b39e04a2b",
   "metadata": {},
   "source": [
    "### Sankey Chart"
   ]
  },
  {
   "cell_type": "markdown",
   "id": "c2240976-f001-4511-8a61-97b41ca7155a",
   "metadata": {},
   "source": [
    "This is a classic visualization, originally invented to visualize the workings of internal combustion engines. The coolest version of it remains Charles Minard's 1869 visualization of Napoleon's march into and out of Russia. The major requirement of this kind of visualization is a \"source\" column and a \"target\" column.\n",
    "![Minard](https://upload.wikimedia.org/wikipedia/commons/2/29/Minard.png \"Minard Diagram\")"
   ]
  },
  {
   "cell_type": "code",
   "execution_count": null,
   "id": "3869436d-a30a-496d-8585-88fe7351e684",
   "metadata": {},
   "outputs": [],
   "source": [
    "import holoviews as hv\n",
    "import plotly.graph_objects as go\n",
    "\n",
    "# Nan values create problems for almost any function that is looking for a string. We have to replace them.\n",
    "# A bonus is we can gather all unknown buyers and sellers into one category.\n",
    "data['Buy Auth Addr 1'].fillna('Unknown Buyer', inplace=True)\n",
    "data['Sell Auth Loc 1'].fillna('Unknown Seller', inplace=True)\n",
    "\n",
    "# We need to assign each buyer and seller a country.\n",
    "# Another method would be to run the whole string through a geotagging API like Geopy.\n",
    "# That becomes impossible when we are dealing with 40k+ rows.\n",
    "# Instead, we regex from the \"Buy Auth Addr 1\" and \"Sell Auth Loc 1\" columns.\n",
    "def actor_country(string):\n",
    "    output = re.sub(\"(.*)(,\\s)(.*$)\",\"\\\\3\", string)\n",
    "    return output\n",
    "\n",
    "data['buyer_country'] = data['Buy Auth Addr 1'].apply(lambda x: actor_country(x))\n",
    "data['seller_country'] = data['Sell Auth Loc 1'].apply(lambda x: actor_country(x))"
   ]
  },
  {
   "cell_type": "code",
   "execution_count": null,
   "id": "eea08394-22cc-4b26-be09-e254b07f1d78",
   "metadata": {},
   "outputs": [],
   "source": [
    "# running on the whole dataset is computing-intensive. Let's cut it down.\n",
    "data = data.head(50)"
   ]
  },
  {
   "cell_type": "code",
   "execution_count": null,
   "id": "ea0bfa2e-7a11-4ac7-bc19-6ea55364e0b8",
   "metadata": {},
   "outputs": [],
   "source": [
    "# sankey diagrams run on three columns: source, target, value (usually a number)\n",
    "# the two lines below grab the two relevant columns for source and target\n",
    "# We use the \"zip\" method to stitch those back as a separate df\n",
    "# then we assign is row a 'value' of 1\n",
    "source = data['buyer_country']\n",
    "target = data['seller_country']\n",
    "edges = pd.DataFrame(zip(source, target), columns=['source', 'target'])\n",
    "edges['value'] = 1\n",
    "\n",
    "#--------------------------------------\n",
    "# The sankey function requires that strings be assigned numeric equivalents\n",
    "# These can be encoded in a dictionary.\n",
    "#'label' parameter in plotly \n",
    "unique_source_target = list(pd.unique(edges[['source', 'target']].values.ravel('K')))\n",
    "#for assigning unique number to each source and target\n",
    "mapping_dict = {k: v for v, k in enumerate(unique_source_target)}\n",
    "#mapping of full data\n",
    "edges['source'] = edges['source'].map(mapping_dict)\n",
    "edges['target'] = edges['target'].map(mapping_dict)\n",
    "#converting full dataframe as list for using with in plotly\n",
    "links_dict = edges.to_dict(orient='list')\n",
    "\n",
    "#---------------------------------------\n",
    "#Sankey Diagram Code \n",
    "fig = go.Figure(data=[go.Sankey(\n",
    "    node = dict(\n",
    "    pad = 15,\n",
    "    thickness = 20,\n",
    "    line = dict(color = \"black\", width = 0.5),\n",
    "    label = unique_source_target,\n",
    "\n",
    "    ),\n",
    "    link = dict(\n",
    "    source = links_dict[\"source\"],\n",
    "    target = links_dict[\"target\"],\n",
    "    value = links_dict[\"value\"],\n",
    "\n",
    "))])\n",
    "\n",
    "sankey = fig.update_layout(title_text=\"Knoedler Sankey Diagram\", font_size=10,width=1000, height=600)\n",
    "sankey"
   ]
  }
 ],
 "metadata": {
  "kernelspec": {
   "display_name": "Python 3 (ipykernel)",
   "language": "python",
   "name": "python3"
  },
  "language_info": {
   "codemirror_mode": {
    "name": "ipython",
    "version": 3
   },
   "file_extension": ".py",
   "mimetype": "text/x-python",
   "name": "python",
   "nbconvert_exporter": "python",
   "pygments_lexer": "ipython3",
   "version": "3.11.7"
  }
 },
 "nbformat": 4,
 "nbformat_minor": 5
}
